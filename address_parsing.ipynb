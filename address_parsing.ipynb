{
 "cells": [
  {
   "cell_type": "markdown",
   "id": "13d64088bda3969b",
   "metadata": {},
   "source": [
    "## 1. Chargement des données\n",
    "[RoBERTA-Text-Classification](https://jesusleal.io/2020/10/20/RoBERTA-Text-Classification/) \\\n",
    "<https://youtu.be/vNKIg8rXK6w>"
   ]
  },
  {
   "cell_type": "code",
   "id": "12aa01a4-0661-4c69-b103-dab04b34ec4c",
   "metadata": {
    "ExecuteTime": {
     "end_time": "2025-02-07T09:40:34.313645Z",
     "start_time": "2025-02-07T09:40:34.306509Z"
    }
   },
   "source": [
    "import pandas as pd\n",
    "import torch\n",
    "import numpy as np\n",
    "import matplotlib.pyplot as plt\n",
    "import seaborn as sns\n",
    "from sklearn.metrics import (\n",
    "    confusion_matrix,\n",
    "    classification_report,\n",
    "    roc_curve,\n",
    "    auc\n",
    ")\n",
    "from itertools import cycle\n",
    "from transformers import RobertaForTokenClassification, TrainingArguments, Trainer\n",
    "import re\n"
   ],
   "outputs": [],
   "execution_count": 39
  },
  {
   "cell_type": "code",
   "id": "bbe90d8fbabee0a0",
   "metadata": {
    "ExecuteTime": {
     "end_time": "2025-02-07T09:24:19.454808Z",
     "start_time": "2025-02-07T09:23:34.895316Z"
    }
   },
   "source": [
    "# Chargement du dataset brut\n",
    "raw_df = pd.read_csv(\"data/adresses-france.csv/adresses-france.csv\", sep=\";\", dtype=object, usecols=['numero', 'rep', 'nom_voie', 'code_postal', 'nom_commune'])\n",
    "\n",
    "print(\"Dataset initial (5 premières lignes):\")\n",
    "display(raw_df.head())"
   ],
   "outputs": [
    {
     "name": "stdout",
     "output_type": "stream",
     "text": [
      "Dataset initial (5 premières lignes):\n"
     ]
    },
    {
     "data": {
      "text/plain": [
       "  numero  rep      nom_voie code_postal              nom_commune\n",
       "0    630  NaN     la Chèvre       01400  L'Abergement-Clémenciat\n",
       "1    108  NaN     Clemencia       01400  L'Abergement-Clémenciat\n",
       "2      9  NaN  Imp des Epis       01400  L'Abergement-Clémenciat\n",
       "3     23  NaN  Imp des Epis       01400  L'Abergement-Clémenciat\n",
       "4     26  NaN  Imp des Epis       01400  L'Abergement-Clémenciat"
      ],
      "text/html": [
       "<div>\n",
       "<style scoped>\n",
       "    .dataframe tbody tr th:only-of-type {\n",
       "        vertical-align: middle;\n",
       "    }\n",
       "\n",
       "    .dataframe tbody tr th {\n",
       "        vertical-align: top;\n",
       "    }\n",
       "\n",
       "    .dataframe thead th {\n",
       "        text-align: right;\n",
       "    }\n",
       "</style>\n",
       "<table border=\"1\" class=\"dataframe\">\n",
       "  <thead>\n",
       "    <tr style=\"text-align: right;\">\n",
       "      <th></th>\n",
       "      <th>numero</th>\n",
       "      <th>rep</th>\n",
       "      <th>nom_voie</th>\n",
       "      <th>code_postal</th>\n",
       "      <th>nom_commune</th>\n",
       "    </tr>\n",
       "  </thead>\n",
       "  <tbody>\n",
       "    <tr>\n",
       "      <th>0</th>\n",
       "      <td>630</td>\n",
       "      <td>NaN</td>\n",
       "      <td>la Chèvre</td>\n",
       "      <td>01400</td>\n",
       "      <td>L'Abergement-Clémenciat</td>\n",
       "    </tr>\n",
       "    <tr>\n",
       "      <th>1</th>\n",
       "      <td>108</td>\n",
       "      <td>NaN</td>\n",
       "      <td>Clemencia</td>\n",
       "      <td>01400</td>\n",
       "      <td>L'Abergement-Clémenciat</td>\n",
       "    </tr>\n",
       "    <tr>\n",
       "      <th>2</th>\n",
       "      <td>9</td>\n",
       "      <td>NaN</td>\n",
       "      <td>Imp des Epis</td>\n",
       "      <td>01400</td>\n",
       "      <td>L'Abergement-Clémenciat</td>\n",
       "    </tr>\n",
       "    <tr>\n",
       "      <th>3</th>\n",
       "      <td>23</td>\n",
       "      <td>NaN</td>\n",
       "      <td>Imp des Epis</td>\n",
       "      <td>01400</td>\n",
       "      <td>L'Abergement-Clémenciat</td>\n",
       "    </tr>\n",
       "    <tr>\n",
       "      <th>4</th>\n",
       "      <td>26</td>\n",
       "      <td>NaN</td>\n",
       "      <td>Imp des Epis</td>\n",
       "      <td>01400</td>\n",
       "      <td>L'Abergement-Clémenciat</td>\n",
       "    </tr>\n",
       "  </tbody>\n",
       "</table>\n",
       "</div>"
      ]
     },
     "metadata": {},
     "output_type": "display_data"
    }
   ],
   "execution_count": 9
  },
  {
   "cell_type": "code",
   "id": "600780e5b616d44c",
   "metadata": {
    "ExecuteTime": {
     "end_time": "2025-02-07T09:24:33.942944Z",
     "start_time": "2025-02-07T09:24:33.923927Z"
    }
   },
   "source": [
    "nombre_lignes = raw_df.shape[0]\n",
    "nombre_colonnes = raw_df.shape[1]\n",
    "taille = raw_df.size\n",
    "\n",
    "# Affichage des résultats\n",
    "print(f\"Nombre de lignes : {nombre_lignes}\")\n",
    "print(f\"Nombre de colonnes : {nombre_colonnes}\")\n",
    "print(f\"Taille totale : {taille}\")"
   ],
   "outputs": [
    {
     "name": "stdout",
     "output_type": "stream",
     "text": [
      "Nombre de lignes : 26032916\n",
      "Nombre de colonnes : 5\n",
      "Taille totale : 130164580\n"
     ]
    }
   ],
   "execution_count": 10
  },
  {
   "cell_type": "markdown",
   "id": "cca2af97d6316f1f",
   "metadata": {},
   "source": [
    "## 2. Sélection et renommage des colonnes\n",
    "\n",
    "Je veux que ma base de données contienne au minimum tous les codes postaux et tous les rep. Car ce sont les plus rares."
   ]
  },
  {
   "cell_type": "code",
   "id": "initial_id",
   "metadata": {
    "scrolled": true,
    "ExecuteTime": {
     "end_time": "2025-02-07T10:37:38.056677Z",
     "start_time": "2025-02-07T10:37:22.262516Z"
    }
   },
   "source": [
    "df = raw_df.copy()\n",
    "\n",
    "# Sélection des combinaisons uniques de 'code_postal'\n",
    "df1 = df.drop_duplicates(subset=['code_postal'])\n",
    "\n",
    "# Sélection des combinaisons uniques de 'rep'\n",
    "df2 = df.drop_duplicates(subset=['rep'])\n",
    "\n",
    "# Sélection des combinaisons uniques de 'numero'\n",
    "df3 = df.drop_duplicates(subset=['numero'])\n",
    "\n",
    "# Conserver le 1/5 ième inférieur\n",
    "df3 = df3.iloc[:len(df3) // 5].reset_index(drop=True)\n",
    "\n",
    "# Concaténation des deux bases de données et suppression des doublons\n",
    "df_final = pd.concat([df1, df2, df3]).drop_duplicates().reset_index(drop=True)\n",
    "df = df_final.rename(columns={'nom_commune': 'ville'})\n",
    "\n",
    "# Réorganisation des colonnes\n",
    "df = df[['numero', 'rep', 'nom_voie', 'code_postal', 'ville']]\n",
    "\n",
    "def add_na_no_overlap(data, column, missing_percentage=0.1):\n",
    "    num_missing = int(len(data) * missing_percentage)\n",
    "    missing_indices = np.random.choice(data.index, size=num_missing, replace=False)\n",
    "    data.loc[missing_indices, column] = np.nan\n",
    "    return data\n",
    "\n",
    "# Appliquer l'ajout de NaN à 10% dans la colonne 'numero' du DataFrame original\n",
    "df = add_na_no_overlap(df, 'numero', 0.005)\n",
    "\n",
    "# Appliquer l'ajout de NaN à 10% dans 'ville' uniquement pour les lignes où 'numero' n'est pas NaN\n",
    "df.loc[df['numero'].notna(), 'ville'] = df.loc[df['numero'].notna(), 'ville'].apply(lambda x: np.nan if np.random.rand() < 0.005 else x)\n",
    "\n",
    "# Appliquer l'ajout de NaN à 10% dans 'code_postal' uniquement pour les lignes où 'numero' et 'ville' ne sont pas NaN\n",
    "df.loc[df['numero'].notna() & df['ville'].notna(), 'code_postal'] = df.loc[df['numero'].notna() & df['ville'].notna(), 'code_postal'].apply(lambda x: np.nan if np.random.rand() < 0.005 else x)\n",
    "\n",
    "df = df.fillna('')"
   ],
   "outputs": [],
   "execution_count": 43
  },
  {
   "cell_type": "code",
   "id": "fd50bb12-66c8-4d26-a82e-91ff4a5d1809",
   "metadata": {
    "ExecuteTime": {
     "end_time": "2025-02-07T10:38:15.646781Z",
     "start_time": "2025-02-07T10:38:15.592623Z"
    }
   },
   "source": "display(df.head(10))",
   "outputs": [
    {
     "data": {
      "text/plain": [
       "  numero rep                     nom_voie code_postal                    ville\n",
       "0    630                        la Chèvre       01400  L'Abergement-Clémenciat\n",
       "1      6               Place du Pese Lait       01640    L'Abergement-de-Varey\n",
       "2     63                       le Buisson       01330      Ambérieux-en-Dombes\n",
       "3      2               Lotissement le Nan       01500        Ambérieu-en-Bugey\n",
       "4      1                Rue des Collonges       01350                  Vongnes\n",
       "5     17            Les Hauts de Virignin       01300                 Virignin\n",
       "6      1                           Bergon       01260      Arvière-en-Valromey\n",
       "7      2                Rue des Barmettes       01510      Arvière-en-Valromey\n",
       "8      2      Route de Neuville les Dames       01540                   Vonnas\n",
       "9      1         Rue Andre Charles Boulle       01440                   Viriat"
      ],
      "text/html": [
       "<div>\n",
       "<style scoped>\n",
       "    .dataframe tbody tr th:only-of-type {\n",
       "        vertical-align: middle;\n",
       "    }\n",
       "\n",
       "    .dataframe tbody tr th {\n",
       "        vertical-align: top;\n",
       "    }\n",
       "\n",
       "    .dataframe thead th {\n",
       "        text-align: right;\n",
       "    }\n",
       "</style>\n",
       "<table border=\"1\" class=\"dataframe\">\n",
       "  <thead>\n",
       "    <tr style=\"text-align: right;\">\n",
       "      <th></th>\n",
       "      <th>numero</th>\n",
       "      <th>rep</th>\n",
       "      <th>nom_voie</th>\n",
       "      <th>code_postal</th>\n",
       "      <th>ville</th>\n",
       "    </tr>\n",
       "  </thead>\n",
       "  <tbody>\n",
       "    <tr>\n",
       "      <th>0</th>\n",
       "      <td>630</td>\n",
       "      <td></td>\n",
       "      <td>la Chèvre</td>\n",
       "      <td>01400</td>\n",
       "      <td>L'Abergement-Clémenciat</td>\n",
       "    </tr>\n",
       "    <tr>\n",
       "      <th>1</th>\n",
       "      <td>6</td>\n",
       "      <td></td>\n",
       "      <td>Place du Pese Lait</td>\n",
       "      <td>01640</td>\n",
       "      <td>L'Abergement-de-Varey</td>\n",
       "    </tr>\n",
       "    <tr>\n",
       "      <th>2</th>\n",
       "      <td>63</td>\n",
       "      <td></td>\n",
       "      <td>le Buisson</td>\n",
       "      <td>01330</td>\n",
       "      <td>Ambérieux-en-Dombes</td>\n",
       "    </tr>\n",
       "    <tr>\n",
       "      <th>3</th>\n",
       "      <td>2</td>\n",
       "      <td></td>\n",
       "      <td>Lotissement le Nan</td>\n",
       "      <td>01500</td>\n",
       "      <td>Ambérieu-en-Bugey</td>\n",
       "    </tr>\n",
       "    <tr>\n",
       "      <th>4</th>\n",
       "      <td>1</td>\n",
       "      <td></td>\n",
       "      <td>Rue des Collonges</td>\n",
       "      <td>01350</td>\n",
       "      <td>Vongnes</td>\n",
       "    </tr>\n",
       "    <tr>\n",
       "      <th>5</th>\n",
       "      <td>17</td>\n",
       "      <td></td>\n",
       "      <td>Les Hauts de Virignin</td>\n",
       "      <td>01300</td>\n",
       "      <td>Virignin</td>\n",
       "    </tr>\n",
       "    <tr>\n",
       "      <th>6</th>\n",
       "      <td>1</td>\n",
       "      <td></td>\n",
       "      <td>Bergon</td>\n",
       "      <td>01260</td>\n",
       "      <td>Arvière-en-Valromey</td>\n",
       "    </tr>\n",
       "    <tr>\n",
       "      <th>7</th>\n",
       "      <td>2</td>\n",
       "      <td></td>\n",
       "      <td>Rue des Barmettes</td>\n",
       "      <td>01510</td>\n",
       "      <td>Arvière-en-Valromey</td>\n",
       "    </tr>\n",
       "    <tr>\n",
       "      <th>8</th>\n",
       "      <td>2</td>\n",
       "      <td></td>\n",
       "      <td>Route de Neuville les Dames</td>\n",
       "      <td>01540</td>\n",
       "      <td>Vonnas</td>\n",
       "    </tr>\n",
       "    <tr>\n",
       "      <th>9</th>\n",
       "      <td>1</td>\n",
       "      <td></td>\n",
       "      <td>Rue Andre Charles Boulle</td>\n",
       "      <td>01440</td>\n",
       "      <td>Viriat</td>\n",
       "    </tr>\n",
       "  </tbody>\n",
       "</table>\n",
       "</div>"
      ]
     },
     "metadata": {},
     "output_type": "display_data"
    }
   ],
   "execution_count": 44
  },
  {
   "cell_type": "markdown",
   "id": "7e2cd980-d5d2-477d-9cd8-d62cd49d628d",
   "metadata": {},
   "source": [
    "Dans la constitution de ma base de données, j'ai ainsi reproduit les cas où il manque un numéro de rue, le nom de la rue, le code postal ou le `rep`. Afin de m'adapter à différents cas de figure"
   ]
  },
  {
   "cell_type": "code",
   "id": "9231bdd6986b57ac",
   "metadata": {
    "ExecuteTime": {
     "end_time": "2025-02-07T10:38:25.847714Z",
     "start_time": "2025-02-07T10:38:25.826264Z"
    }
   },
   "source": [
    "nombre_lignes = df.shape[0]\n",
    "nombre_colonnes = df.shape[1]\n",
    "taille = df.size\n",
    "\n",
    "# Affichage des résultats\n",
    "print(f\"Nombre de lignes : {nombre_lignes}\")\n",
    "print(f\"Nombre de colonnes : {nombre_colonnes}\")\n",
    "print(f\"Taille totale : {taille}\")\n"
   ],
   "outputs": [
    {
     "name": "stdout",
     "output_type": "stream",
     "text": [
      "Nombre de lignes : 11594\n",
      "Nombre de colonnes : 5\n",
      "Taille totale : 57970\n"
     ]
    }
   ],
   "execution_count": 45
  },
  {
   "cell_type": "markdown",
   "id": "f58b923d45ca0573",
   "metadata": {},
   "source": [
    "## 3. Création des labels\n",
    "Je veux les ordonner dans un ordre spécifique. Bien évidemment, le premier label sera le `numéro`, ensuite dans lordre le second `rep`, `nom_voie`, `code_postal` et enfin la `ville`."
   ]
  },
  {
   "cell_type": "code",
   "id": "dd2e29bfdf368c5a",
   "metadata": {
    "ExecuteTime": {
     "end_time": "2025-02-07T10:38:41.554066Z",
     "start_time": "2025-02-07T10:38:39.801034Z"
    }
   },
   "source": [
    "def create_labels(row_arg):\n",
    "    labels = []\n",
    "    for field in ['numero', 'rep', 'nom_voie', 'code_postal', 'ville']:\n",
    "        words_str = str(row_arg[field]) if pd.notna(row_arg[field]) else ''\n",
    "        words = words_str.split()\n",
    "        labels.extend([field] * len(words))\n",
    "    return labels\n",
    "\n",
    "df['address'] = df.apply(lambda x: ' '.join(x.dropna().astype(str)), axis=1)\n",
    "df['words'] = df['address'].str.split()\n",
    "df['labels'] = df.apply(create_labels, axis=1)\n",
    "df = df[['address', 'words', 'labels']].copy()\n"
   ],
   "outputs": [],
   "execution_count": 46
  },
  {
   "cell_type": "code",
   "id": "fb590850e0604612",
   "metadata": {
    "ExecuteTime": {
     "end_time": "2025-02-07T10:38:43.357957Z",
     "start_time": "2025-02-07T10:38:42.811331Z"
    }
   },
   "source": [
    "# Vérifier l'alignement mots/labels\n",
    "for i, row in df.iterrows():\n",
    "    assert len(row['words']) == len(row['labels']), f\"Erreur ligne {i}\"\n",
    "\n",
    "# Vérifier les types\n",
    "assert df['words'].apply(type).eq(list).all()\n",
    "assert df['labels'].apply(type).eq(list).all()\n",
    "\n",
    "# Vérifier les valeurs manquantes\n",
    "print(\"Valeurs manquantes:\")\n",
    "print(df.isna().sum())"
   ],
   "outputs": [
    {
     "name": "stdout",
     "output_type": "stream",
     "text": [
      "Valeurs manquantes:\n",
      "address    0\n",
      "words      0\n",
      "labels     0\n",
      "dtype: int64\n"
     ]
    }
   ],
   "execution_count": 47
  },
  {
   "cell_type": "markdown",
   "id": "481e84250d8c55bc",
   "metadata": {},
   "source": [
    "## 4. Conversion en Dataset Hugging Face\n",
    "Pour entraîner notre modèle, il nous faut convertir notre base de données en un format utilisable par le modèle."
   ]
  },
  {
   "cell_type": "code",
   "id": "b492537c54373f41",
   "metadata": {
    "ExecuteTime": {
     "end_time": "2025-02-07T10:38:53.013019Z",
     "start_time": "2025-02-07T10:38:48.037068Z"
    }
   },
   "source": [
    "from datasets import Dataset\n",
    "df_for_recostitution = df\n",
    "dataset = Dataset.from_pandas(df)\n",
    "print(\"Exemple d'entrée dataset:\")\n",
    "def display_dataset(data, n=3):\n",
    "    \"\"\"Affiche les n premières et n dernières entrées du dataset de manière lisible.\"\"\"\n",
    "\n",
    "    total_entries = len(data[\"address\"])\n",
    "    indices = list(range(n)) + list(range(max(n, total_entries - n), total_entries))  # Indices à afficher\n",
    "\n",
    "    for indice in indices:\n",
    "        print(f\"Entrée {indice + 1}:\")\n",
    "        print(f\"  Adresse : {data['address'][indice]}\")\n",
    "        print(f\"  Mots    : {', '.join(data['words'][indice])}\")\n",
    "        print(f\"  Labels  : {', '.join(data['labels'][indice])}\")\n",
    "        print(\"-\" * 50)\n",
    "\n",
    "display_dataset(dataset, n=5)\n"
   ],
   "outputs": [
    {
     "name": "stdout",
     "output_type": "stream",
     "text": [
      "Exemple d'entrée dataset:\n",
      "Entrée 1:\n",
      "  Adresse : 630  la Chèvre 01400 L'Abergement-Clémenciat\n",
      "  Mots    : 630, la, Chèvre, 01400, L'Abergement-Clémenciat\n",
      "  Labels  : numero, nom_voie, nom_voie, code_postal, ville\n",
      "--------------------------------------------------\n",
      "Entrée 2:\n",
      "  Adresse : 6  Place du Pese Lait 01640 L'Abergement-de-Varey\n",
      "  Mots    : 6, Place, du, Pese, Lait, 01640, L'Abergement-de-Varey\n",
      "  Labels  : numero, nom_voie, nom_voie, nom_voie, nom_voie, code_postal, ville\n",
      "--------------------------------------------------\n",
      "Entrée 3:\n",
      "  Adresse : 63  le Buisson 01330 Ambérieux-en-Dombes\n",
      "  Mots    : 63, le, Buisson, 01330, Ambérieux-en-Dombes\n",
      "  Labels  : numero, nom_voie, nom_voie, code_postal, ville\n",
      "--------------------------------------------------\n",
      "Entrée 4:\n",
      "  Adresse : 2  Lotissement le Nan 01500 Ambérieu-en-Bugey\n",
      "  Mots    : 2, Lotissement, le, Nan, 01500, Ambérieu-en-Bugey\n",
      "  Labels  : numero, nom_voie, nom_voie, nom_voie, code_postal, ville\n",
      "--------------------------------------------------\n",
      "Entrée 5:\n",
      "  Adresse : 1  Rue des Collonges 01350 Vongnes\n",
      "  Mots    : 1, Rue, des, Collonges, 01350, Vongnes\n",
      "  Labels  : numero, nom_voie, nom_voie, nom_voie, code_postal, ville\n",
      "--------------------------------------------------\n",
      "Entrée 11590:\n",
      "  Adresse : 693  Rue de Gletin 01390 Tramoyes\n",
      "  Mots    : 693, Rue, de, Gletin, 01390, Tramoyes\n",
      "  Labels  : numero, nom_voie, nom_voie, nom_voie, code_postal, ville\n",
      "--------------------------------------------------\n",
      "Entrée 11591:\n",
      "  Adresse : 786  Rue de Gletin 01390 Tramoyes\n",
      "  Mots    : 786, Rue, de, Gletin, 01390, Tramoyes\n",
      "  Labels  : numero, nom_voie, nom_voie, nom_voie, code_postal, ville\n",
      "--------------------------------------------------\n",
      "Entrée 11592:\n",
      "  Adresse : 791  Rue de Gletin 01390 Tramoyes\n",
      "  Mots    : 791, Rue, de, Gletin, 01390, Tramoyes\n",
      "  Labels  : numero, nom_voie, nom_voie, nom_voie, code_postal, ville\n",
      "--------------------------------------------------\n",
      "Entrée 11593:\n",
      "  Adresse : 814  Rue des Pins 01390 Tramoyes\n",
      "  Mots    : 814, Rue, des, Pins, 01390, Tramoyes\n",
      "  Labels  : numero, nom_voie, nom_voie, nom_voie, code_postal, ville\n",
      "--------------------------------------------------\n",
      "Entrée 11594:\n",
      "  Adresse : 987  Rue des Pins 01390 Tramoyes\n",
      "  Mots    : 987, Rue, des, Pins, 01390, Tramoyes\n",
      "  Labels  : numero, nom_voie, nom_voie, nom_voie, code_postal, ville\n",
      "--------------------------------------------------\n"
     ]
    }
   ],
   "execution_count": 48
  },
  {
   "cell_type": "markdown",
   "id": "d758df70644be84b",
   "metadata": {},
   "source": [
    "## 5. Configuration des labels\n",
    "Je vais encoder les différents labels"
   ]
  },
  {
   "cell_type": "code",
   "id": "34c6c1077d65abeb",
   "metadata": {
    "ExecuteTime": {
     "end_time": "2025-02-07T10:38:58.396964Z",
     "start_time": "2025-02-07T10:38:58.387059Z"
    }
   },
   "source": [
    "# Réorganiser directement les éléments\n",
    "ordered_labels = ['numero', 'rep', 'nom_voie', 'code_postal', 'ville']\n",
    "print(ordered_labels)\n",
    "# Mapping label -> ID et ID -> label\n",
    "label2id = {label: i for i, label in enumerate(ordered_labels)}\n",
    "id2label = {i: label for label, i in label2id.items()}\n",
    "\n",
    "# Affichage\n",
    "print(\"label2id:\", label2id)\n",
    "print(\"id2label:\", id2label)"
   ],
   "outputs": [
    {
     "name": "stdout",
     "output_type": "stream",
     "text": [
      "['numero', 'rep', 'nom_voie', 'code_postal', 'ville']\n",
      "label2id: {'numero': 0, 'rep': 1, 'nom_voie': 2, 'code_postal': 3, 'ville': 4}\n",
      "id2label: {0: 'numero', 1: 'rep', 2: 'nom_voie', 3: 'code_postal', 4: 'ville'}\n"
     ]
    }
   ],
   "execution_count": 49
  },
  {
   "cell_type": "markdown",
   "id": "6e45b5338eb673ae",
   "metadata": {},
   "source": [
    "## 6. Tokenization"
   ]
  },
  {
   "cell_type": "code",
   "id": "1117c35da71981d9",
   "metadata": {
    "ExecuteTime": {
     "end_time": "2025-02-07T10:39:11.320866Z",
     "start_time": "2025-02-07T10:39:06.722407Z"
    }
   },
   "source": [
    "from transformers import RobertaTokenizerFast\n",
    "\n",
    "tokenizer = RobertaTokenizerFast.from_pretrained(\"roberta-base\", add_prefix_space=True)\n",
    "\n",
    "def tokenize_and_align_labels(examples):\n",
    "    # Conversion des étiquettes en IDs\n",
    "    labels_encoded = [list(map(label2id.get, lbl_list)) for lbl_list in examples[\"labels\"]]\n",
    "\n",
    "    # Tokenisation des mots\n",
    "    tokenized_inputs = tokenizer(\n",
    "        examples[\"words\"],\n",
    "        truncation=True,\n",
    "        is_split_into_words=True,\n",
    "        padding=True,   # Padding dynamique (pas de longueur fixe)\n",
    "        max_length=18   # Limite de longueur maximale plus large pour les adresses plus longues\n",
    "    )\n",
    "\n",
    "    # Alignement des étiquettes avec les tokens\n",
    "    aligned_labels = []\n",
    "    for indince, lbls in enumerate(labels_encoded):\n",
    "        word_ids = tokenized_inputs.word_ids(batch_index=indince)\n",
    "        token_labels = []\n",
    "\n",
    "        prev_word_idx = None  # Pour savoir si on est dans le même mot\n",
    "\n",
    "        for word_idx in word_ids:\n",
    "            if word_idx is None:\n",
    "                # Masquage des tokens spéciaux (CLS, SEP, PAD)\n",
    "                token_labels.append(-100)\n",
    "            elif word_idx != prev_word_idx:\n",
    "                # Nouveau mot, attribuer le label du mot entier\n",
    "                token_labels.append(lbls[word_idx])\n",
    "            else:\n",
    "                # Sous-token, attribuer -100 pour ne pas affecter le label\n",
    "                token_labels.append(-100)\n",
    "            prev_word_idx = word_idx\n",
    "\n",
    "        aligned_labels.append(token_labels)\n",
    "\n",
    "    tokenized_inputs[\"labels\"] = aligned_labels\n",
    "    return tokenized_inputs\n",
    "\n",
    "tokenized_dataset = dataset.map(tokenize_and_align_labels, batched=True)"
   ],
   "outputs": [
    {
     "data": {
      "text/plain": [
       "Map:   0%|          | 0/11594 [00:00<?, ? examples/s]"
      ],
      "application/vnd.jupyter.widget-view+json": {
       "version_major": 2,
       "version_minor": 0,
       "model_id": "78cb3b849de64d2bbf871efabe118301"
      }
     },
     "metadata": {},
     "output_type": "display_data"
    }
   ],
   "execution_count": 50
  },
  {
   "cell_type": "code",
   "id": "96c43e44ba3a3d6d",
   "metadata": {
    "ExecuteTime": {
     "end_time": "2025-02-07T10:39:27.874432Z",
     "start_time": "2025-02-07T10:39:27.857846Z"
    }
   },
   "source": [
    "print(\"\\nExemple de sortie tokenized:\")\n",
    "print(tokenized_dataset[13])"
   ],
   "outputs": [
    {
     "name": "stdout",
     "output_type": "stream",
     "text": [
      "\n",
      "Exemple de sortie tokenized:\n",
      "{'address': '1  les Améries 01480 Villeneuve', 'words': ['1', 'les', 'Améries', '01480', 'Villeneuve'], 'labels': [-100, 0, 2, 2, -100, -100, 3, -100, 4, -100, -100, -100, -100, -100, -100, -100, -100, -100], 'input_ids': [0, 112, 7427, 1918, 1140, 4458, 9465, 27018, 7296, 2552, 22258, 2, 1, 1, 1, 1, 1, 1], 'attention_mask': [1, 1, 1, 1, 1, 1, 1, 1, 1, 1, 1, 1, 0, 0, 0, 0, 0, 0]}\n"
     ]
    }
   ],
   "execution_count": 51
  },
  {
   "cell_type": "markdown",
   "id": "c46779662d29a566",
   "metadata": {},
   "source": [
    "## 7. Métrics d'évaluations"
   ]
  },
  {
   "cell_type": "code",
   "id": "f9d99227cb0caa70",
   "metadata": {
    "ExecuteTime": {
     "end_time": "2025-02-07T10:40:15.502419Z",
     "start_time": "2025-02-07T10:40:15.461730Z"
    }
   },
   "source": [
    "# 1. Classe de calcul de métriques personnalisées\n",
    "class MetricsCalculator:\n",
    "    def __init__(self, id2label_arg):\n",
    "        self.id2label = id2label_arg\n",
    "        self.all_labels = []\n",
    "        self.all_preds = []\n",
    "        self.all_probs = []\n",
    "\n",
    "    def add_batch(self, logits, labels):\n",
    "        probs = torch.nn.functional.softmax(torch.tensor(logits), dim=-1).numpy()\n",
    "        preds = np.argmax(logits, axis=-1)\n",
    "\n",
    "        # Filtrer les labels ignorés (-100)\n",
    "        mask = labels != -100\n",
    "        for prob, pred, label, m in zip(probs, preds, labels, mask):\n",
    "            valid = m.nonzero()[0]\n",
    "            self.all_probs.extend(prob[valid])\n",
    "            self.all_preds.extend(pred[valid])\n",
    "            self.all_labels.extend(label[valid])\n",
    "\n",
    "    def compute(self):\n",
    "        # Classification report\n",
    "        report = classification_report(\n",
    "            self.all_labels,\n",
    "            self.all_preds,\n",
    "            target_names=list(self.id2label.values()),\n",
    "            zero_division=0\n",
    "        )\n",
    "\n",
    "        # Matrice de confusion\n",
    "        cm = confusion_matrix(self.all_labels, self.all_preds)\n",
    "\n",
    "        # Courbe ROC et AUC\n",
    "        fpr = dict()\n",
    "        tpr = dict()\n",
    "        roc_auc = dict()\n",
    "        n_classes = len(self.id2label)\n",
    "\n",
    "        # Binarize les labels pour le multiclass\n",
    "        y_true = np.eye(n_classes)[self.all_labels]\n",
    "        y_score = np.array(self.all_probs)\n",
    "\n",
    "        for indice in range(n_classes):\n",
    "            fpr[indice], tpr[indice], _ = roc_curve(y_true[:, indice], y_score[:, indice])\n",
    "            roc_auc[indice] = auc(fpr[indice], tpr[indice])\n",
    "\n",
    "        # Micro-average\n",
    "        fpr[\"micro\"], tpr[\"micro\"], _ = roc_curve(y_true.ravel(), y_score.ravel())\n",
    "        roc_auc[\"micro\"] = auc(fpr[\"micro\"], tpr[\"micro\"])\n",
    "\n",
    "        return {\n",
    "            \"report\": report,\n",
    "            \"confusion_matrix\": cm,\n",
    "            \"roc_auc\": roc_auc,\n",
    "            \"fpr\": fpr,\n",
    "            \"tpr\": tpr\n",
    "        }\n",
    "\n",
    "\n",
    "    # 2. Intégration dans le Trainer\n",
    "def compute_metrics(p):\n",
    "    metric_calculator = MetricsCalculator(id2label)\n",
    "    metric_calculator.add_batch(p.predictions, p.label_ids)\n",
    "    metrics = metric_calculator.compute()\n",
    "\n",
    "    # Affichage des métriques\n",
    "    print(\"Classification Report:\\n\", metrics[\"report\"])\n",
    "\n",
    "    # Matrice de confusion normalisée\n",
    "    cm = metrics[\"confusion_matrix\"].astype('float') / metrics[\"confusion_matrix\"].sum(axis=1)[:, np.newaxis]\n",
    "\n",
    "    plt.figure(figsize=(15, 15))\n",
    "    sns.heatmap(cm, annot=True, fmt=\".2f\", cmap='Blues', xticklabels=id2label.values(), yticklabels=id2label.values())\n",
    "    plt.title(\"Matrice de confusion normalisée\")\n",
    "    plt.xlabel(\"Prédictions\")\n",
    "    plt.ylabel(\"Vraies étiquettes\")\n",
    "    plt.show()\n",
    "\n",
    "    # Courbes ROC\n",
    "    plt.figure(figsize=(10, 8))\n",
    "    colors = cycle(['aqua', 'darkorange', 'cornflowerblue'])\n",
    "    for indice, color in zip(range(len(id2label)), colors):\n",
    "        plt.plot(metrics[\"fpr\"][indice], metrics[\"tpr\"][indice], color=color,\n",
    "                 label='ROC {0} (AUC = {1:0.2f})'.format(id2label[indice], metrics[\"roc_auc\"][indice]))\n",
    "\n",
    "    plt.plot([0, 1], [0, 1], 'k--')\n",
    "    plt.xlim([0.0, 1.0])\n",
    "    plt.ylim([0.0, 1.05])\n",
    "    plt.xlabel('Taux de faux positifs')\n",
    "    plt.ylabel('Taux de vrais positifs')\n",
    "    plt.title('Courbes ROC par classe')\n",
    "    plt.legend(loc=\"lower right\")\n",
    "    plt.show()\n",
    "\n",
    "    return {\n",
    "        \"overall_accuracy\": np.mean(np.array(metrics[\"all_preds\"]) == np.array(metrics[\"all_labels\"])),\n",
    "        \"macro_auc\": np.mean(list(metrics[\"roc_auc\"].values()))\n",
    "    }"
   ],
   "outputs": [],
   "execution_count": 52
  },
  {
   "cell_type": "markdown",
   "id": "7675feff7e00db78",
   "metadata": {},
   "source": [
    "## 8. Paramètres du modèle"
   ]
  },
  {
   "cell_type": "code",
   "id": "d8b460b9d962f80d",
   "metadata": {
    "ExecuteTime": {
     "end_time": "2025-02-07T10:44:03.039027Z",
     "start_time": "2025-02-07T10:44:01.895807Z"
    }
   },
   "source": [
    "model = RobertaForTokenClassification.from_pretrained(\n",
    "    \"roberta-base\",\n",
    "    num_labels=len(label2id),\n",
    "    id2label=id2label,\n",
    "    label2id=label2id\n",
    ")\n",
    "\n",
    "training_args = TrainingArguments(\n",
    "    output_dir=\"./results\",\n",
    "    learning_rate= 5e-5,\n",
    "    per_device_train_batch_size=4,\n",
    "    num_train_epochs=1,\n",
    "    eval_strategy=\"epoch\",\n",
    "    save_strategy=\"epoch\",\n",
    "    logging_dir=\"./logs\",\n",
    "    logging_steps=1000\n",
    ")\n",
    "\n",
    "\n",
    "# 7. Création du Trainer\n",
    "trainer = Trainer(\n",
    "    model=model,\n",
    "    args=training_args,\n",
    "    train_dataset=tokenized_dataset,\n",
    "    eval_dataset=tokenized_dataset,\n",
    "    compute_metrics=compute_metrics\n",
    ")"
   ],
   "outputs": [
    {
     "name": "stderr",
     "output_type": "stream",
     "text": [
      "Some weights of RobertaForTokenClassification were not initialized from the model checkpoint at roberta-base and are newly initialized: ['classifier.bias', 'classifier.weight']\n",
      "You should probably TRAIN this model on a down-stream task to be able to use it for predictions and inference.\n"
     ]
    }
   ],
   "execution_count": 53
  },
  {
   "cell_type": "markdown",
   "id": "846a5984321d0d0a",
   "metadata": {},
   "source": [
    "Ce message rouge veut dire que des **poids** et **biais** de la couche de classification sont nouvellement initialisés, car ces paramètres ne faisaient pas partie du modèle de base `roberta-base`. Ils sont créés au moment de l'initialisation du modèle pour la tâche de classification spécifique.\n",
    "\n",
    "### Que faire ?\n",
    "Il faut donc **entraîner le modèle** pour que ces poids nouvellement initialisés aient un sens et puissent être utilisés pour des prédictions.\n",
    "\n",
    "### Fine-tuning\n",
    "Le **fine-tuning** consiste à **optimiser ces nouveaux poids et biais** qui ont été ajustés aux poids déjà présents dans le modèle pré-entrainé. Ce processus permet donc d'adapter le modèle préexistant à une tâche spécifique."
   ]
  },
  {
   "cell_type": "markdown",
   "id": "cc2e3c7ffd6c6b5a",
   "metadata": {},
   "source": "## 9. Entraînement"
  },
  {
   "cell_type": "code",
   "id": "aa24ace90153c451",
   "metadata": {
    "ExecuteTime": {
     "end_time": "2025-02-07T12:03:07.585767Z",
     "start_time": "2025-02-07T10:44:46.312166Z"
    }
   },
   "source": [
    "trainer.train()"
   ],
   "outputs": [
    {
     "data": {
      "text/plain": [
       "<IPython.core.display.HTML object>"
      ],
      "text/html": [
       "\n",
       "    <div>\n",
       "      \n",
       "      <progress value='2900' max='2899' style='width:300px; height:20px; vertical-align: middle;'></progress>\n",
       "      [2899/2899 1:10:44, Epoch 1/1]\n",
       "    </div>\n",
       "    <table border=\"1\" class=\"dataframe\">\n",
       "  <thead>\n",
       " <tr style=\"text-align: left;\">\n",
       "      <th>Epoch</th>\n",
       "      <th>Training Loss</th>\n",
       "      <th>Validation Loss</th>\n",
       "    </tr>\n",
       "  </thead>\n",
       "  <tbody>\n",
       "  </tbody>\n",
       "</table><p>\n",
       "    <div>\n",
       "      \n",
       "      <progress value='1450' max='1450' style='width:300px; height:20px; vertical-align: middle;'></progress>\n",
       "      [1450/1450 07:19]\n",
       "    </div>\n",
       "    "
      ]
     },
     "metadata": {},
     "output_type": "display_data"
    },
    {
     "name": "stdout",
     "output_type": "stream",
     "text": [
      "Classification Report:\n",
      "               precision    recall  f1-score   support\n",
      "\n",
      "      numero       1.00      1.00      1.00     11537\n",
      "         rep       1.00      1.00      1.00      5294\n",
      "    nom_voie       1.00      1.00      1.00     37563\n",
      " code_postal       1.00      1.00      1.00     11415\n",
      "       ville       1.00      1.00      1.00     11993\n",
      "\n",
      "    accuracy                           1.00     77802\n",
      "   macro avg       1.00      1.00      1.00     77802\n",
      "weighted avg       1.00      1.00      1.00     77802\n",
      "\n"
     ]
    },
    {
     "data": {
      "text/plain": [
       "<Figure size 1500x1500 with 2 Axes>"
      ],
      "image/png": "[encoded data removed]"
     },
     "metadata": {},
     "output_type": "display_data"
    },
    {
     "data": {
      "text/plain": [
       "<IPython.core.display.HTML object>"
      ],
      "text/html": [
       "\n",
       "    <div>\n",
       "      \n",
       "      <progress value='2900' max='2899' style='width:300px; height:20px; vertical-align: middle;'></progress>\n",
       "      [2899/2899 1:10:44, Epoch 1/1]\n",
       "    </div>\n",
       "    <table border=\"1\" class=\"dataframe\">\n",
       "  <thead>\n",
       " <tr style=\"text-align: left;\">\n",
       "      <th>Epoch</th>\n",
       "      <th>Training Loss</th>\n",
       "      <th>Validation Loss</th>\n",
       "    </tr>\n",
       "  </thead>\n",
       "  <tbody>\n",
       "  </tbody>\n",
       "</table><p>\n",
       "    <div>\n",
       "      \n",
       "      <progress value='2900' max='1450' style='width:300px; height:20px; vertical-align: middle;'></progress>\n",
       "      [1450/1450 14:07]\n",
       "    </div>\n",
       "    "
      ]
     },
     "metadata": {},
     "output_type": "display_data"
    },
    {
     "ename": "KeyError",
     "evalue": "'all_preds'",
     "output_type": "error",
     "traceback": [
      "\u001B[1;31m---------------------------------------------------------------------------\u001B[0m",
      "\u001B[1;31mKeyError\u001B[0m                                  Traceback (most recent call last)",
      "Cell \u001B[1;32mIn[54], line 1\u001B[0m\n\u001B[1;32m----> 1\u001B[0m \u001B[43mtrainer\u001B[49m\u001B[38;5;241;43m.\u001B[39;49m\u001B[43mtrain\u001B[49m\u001B[43m(\u001B[49m\u001B[43m)\u001B[49m\n",
      "File \u001B[1;32m~\\PycharmProjects\\PythonProject\\.venv\\Lib\\site-packages\\transformers\\trainer.py:2171\u001B[0m, in \u001B[0;36mTrainer.train\u001B[1;34m(self, resume_from_checkpoint, trial, ignore_keys_for_eval, **kwargs)\u001B[0m\n\u001B[0;32m   2169\u001B[0m         hf_hub_utils\u001B[38;5;241m.\u001B[39menable_progress_bars()\n\u001B[0;32m   2170\u001B[0m \u001B[38;5;28;01melse\u001B[39;00m:\n\u001B[1;32m-> 2171\u001B[0m     \u001B[38;5;28;01mreturn\u001B[39;00m \u001B[43minner_training_loop\u001B[49m\u001B[43m(\u001B[49m\n\u001B[0;32m   2172\u001B[0m \u001B[43m        \u001B[49m\u001B[43margs\u001B[49m\u001B[38;5;241;43m=\u001B[39;49m\u001B[43margs\u001B[49m\u001B[43m,\u001B[49m\n\u001B[0;32m   2173\u001B[0m \u001B[43m        \u001B[49m\u001B[43mresume_from_checkpoint\u001B[49m\u001B[38;5;241;43m=\u001B[39;49m\u001B[43mresume_from_checkpoint\u001B[49m\u001B[43m,\u001B[49m\n\u001B[0;32m   2174\u001B[0m \u001B[43m        \u001B[49m\u001B[43mtrial\u001B[49m\u001B[38;5;241;43m=\u001B[39;49m\u001B[43mtrial\u001B[49m\u001B[43m,\u001B[49m\n\u001B[0;32m   2175\u001B[0m \u001B[43m        \u001B[49m\u001B[43mignore_keys_for_eval\u001B[49m\u001B[38;5;241;43m=\u001B[39;49m\u001B[43mignore_keys_for_eval\u001B[49m\u001B[43m,\u001B[49m\n\u001B[0;32m   2176\u001B[0m \u001B[43m    \u001B[49m\u001B[43m)\u001B[49m\n",
      "File \u001B[1;32m~\\PycharmProjects\\PythonProject\\.venv\\Lib\\site-packages\\transformers\\trainer.py:2625\u001B[0m, in \u001B[0;36mTrainer._inner_training_loop\u001B[1;34m(self, batch_size, args, resume_from_checkpoint, trial, ignore_keys_for_eval)\u001B[0m\n\u001B[0;32m   2622\u001B[0m     \u001B[38;5;28mself\u001B[39m\u001B[38;5;241m.\u001B[39mcontrol\u001B[38;5;241m.\u001B[39mshould_training_stop \u001B[38;5;241m=\u001B[39m \u001B[38;5;28;01mTrue\u001B[39;00m\n\u001B[0;32m   2624\u001B[0m \u001B[38;5;28mself\u001B[39m\u001B[38;5;241m.\u001B[39mcontrol \u001B[38;5;241m=\u001B[39m \u001B[38;5;28mself\u001B[39m\u001B[38;5;241m.\u001B[39mcallback_handler\u001B[38;5;241m.\u001B[39mon_epoch_end(args, \u001B[38;5;28mself\u001B[39m\u001B[38;5;241m.\u001B[39mstate, \u001B[38;5;28mself\u001B[39m\u001B[38;5;241m.\u001B[39mcontrol)\n\u001B[1;32m-> 2625\u001B[0m \u001B[38;5;28;43mself\u001B[39;49m\u001B[38;5;241;43m.\u001B[39;49m\u001B[43m_maybe_log_save_evaluate\u001B[49m\u001B[43m(\u001B[49m\u001B[43mtr_loss\u001B[49m\u001B[43m,\u001B[49m\u001B[43m \u001B[49m\u001B[43mgrad_norm\u001B[49m\u001B[43m,\u001B[49m\u001B[43m \u001B[49m\u001B[43mmodel\u001B[49m\u001B[43m,\u001B[49m\u001B[43m \u001B[49m\u001B[43mtrial\u001B[49m\u001B[43m,\u001B[49m\u001B[43m \u001B[49m\u001B[43mepoch\u001B[49m\u001B[43m,\u001B[49m\u001B[43m \u001B[49m\u001B[43mignore_keys_for_eval\u001B[49m\u001B[43m,\u001B[49m\u001B[43m \u001B[49m\u001B[43mstart_time\u001B[49m\u001B[43m)\u001B[49m\n\u001B[0;32m   2627\u001B[0m \u001B[38;5;28;01mif\u001B[39;00m DebugOption\u001B[38;5;241m.\u001B[39mTPU_METRICS_DEBUG \u001B[38;5;129;01min\u001B[39;00m \u001B[38;5;28mself\u001B[39m\u001B[38;5;241m.\u001B[39margs\u001B[38;5;241m.\u001B[39mdebug:\n\u001B[0;32m   2628\u001B[0m     \u001B[38;5;28;01mif\u001B[39;00m is_torch_xla_available():\n\u001B[0;32m   2629\u001B[0m         \u001B[38;5;66;03m# tpu-comment: Logging debug metrics for PyTorch/XLA (compile, execute times, ops, etc.)\u001B[39;00m\n",
      "File \u001B[1;32m~\\PycharmProjects\\PythonProject\\.venv\\Lib\\site-packages\\transformers\\trainer.py:3071\u001B[0m, in \u001B[0;36mTrainer._maybe_log_save_evaluate\u001B[1;34m(self, tr_loss, grad_norm, model, trial, epoch, ignore_keys_for_eval, start_time)\u001B[0m\n\u001B[0;32m   3069\u001B[0m metrics \u001B[38;5;241m=\u001B[39m \u001B[38;5;28;01mNone\u001B[39;00m\n\u001B[0;32m   3070\u001B[0m \u001B[38;5;28;01mif\u001B[39;00m \u001B[38;5;28mself\u001B[39m\u001B[38;5;241m.\u001B[39mcontrol\u001B[38;5;241m.\u001B[39mshould_evaluate:\n\u001B[1;32m-> 3071\u001B[0m     metrics \u001B[38;5;241m=\u001B[39m \u001B[38;5;28;43mself\u001B[39;49m\u001B[38;5;241;43m.\u001B[39;49m\u001B[43m_evaluate\u001B[49m\u001B[43m(\u001B[49m\u001B[43mtrial\u001B[49m\u001B[43m,\u001B[49m\u001B[43m \u001B[49m\u001B[43mignore_keys_for_eval\u001B[49m\u001B[43m)\u001B[49m\n\u001B[0;32m   3072\u001B[0m     is_new_best_metric \u001B[38;5;241m=\u001B[39m \u001B[38;5;28mself\u001B[39m\u001B[38;5;241m.\u001B[39m_determine_best_metric(metrics\u001B[38;5;241m=\u001B[39mmetrics, trial\u001B[38;5;241m=\u001B[39mtrial)\n\u001B[0;32m   3074\u001B[0m     \u001B[38;5;28;01mif\u001B[39;00m \u001B[38;5;28mself\u001B[39m\u001B[38;5;241m.\u001B[39margs\u001B[38;5;241m.\u001B[39msave_strategy \u001B[38;5;241m==\u001B[39m SaveStrategy\u001B[38;5;241m.\u001B[39mBEST:\n",
      "File \u001B[1;32m~\\PycharmProjects\\PythonProject\\.venv\\Lib\\site-packages\\transformers\\trainer.py:3025\u001B[0m, in \u001B[0;36mTrainer._evaluate\u001B[1;34m(self, trial, ignore_keys_for_eval, skip_scheduler)\u001B[0m\n\u001B[0;32m   3024\u001B[0m \u001B[38;5;28;01mdef\u001B[39;00m\u001B[38;5;250m \u001B[39m\u001B[38;5;21m_evaluate\u001B[39m(\u001B[38;5;28mself\u001B[39m, trial, ignore_keys_for_eval, skip_scheduler\u001B[38;5;241m=\u001B[39m\u001B[38;5;28;01mFalse\u001B[39;00m):\n\u001B[1;32m-> 3025\u001B[0m     metrics \u001B[38;5;241m=\u001B[39m \u001B[38;5;28;43mself\u001B[39;49m\u001B[38;5;241;43m.\u001B[39;49m\u001B[43mevaluate\u001B[49m\u001B[43m(\u001B[49m\u001B[43mignore_keys\u001B[49m\u001B[38;5;241;43m=\u001B[39;49m\u001B[43mignore_keys_for_eval\u001B[49m\u001B[43m)\u001B[49m\n\u001B[0;32m   3026\u001B[0m     \u001B[38;5;28mself\u001B[39m\u001B[38;5;241m.\u001B[39m_report_to_hp_search(trial, \u001B[38;5;28mself\u001B[39m\u001B[38;5;241m.\u001B[39mstate\u001B[38;5;241m.\u001B[39mglobal_step, metrics)\n\u001B[0;32m   3028\u001B[0m     \u001B[38;5;66;03m# Run delayed LR scheduler now that metrics are populated\u001B[39;00m\n",
      "File \u001B[1;32m~\\PycharmProjects\\PythonProject\\.venv\\Lib\\site-packages\\transformers\\trainer.py:4073\u001B[0m, in \u001B[0;36mTrainer.evaluate\u001B[1;34m(self, eval_dataset, ignore_keys, metric_key_prefix)\u001B[0m\n\u001B[0;32m   4070\u001B[0m start_time \u001B[38;5;241m=\u001B[39m time\u001B[38;5;241m.\u001B[39mtime()\n\u001B[0;32m   4072\u001B[0m eval_loop \u001B[38;5;241m=\u001B[39m \u001B[38;5;28mself\u001B[39m\u001B[38;5;241m.\u001B[39mprediction_loop \u001B[38;5;28;01mif\u001B[39;00m \u001B[38;5;28mself\u001B[39m\u001B[38;5;241m.\u001B[39margs\u001B[38;5;241m.\u001B[39muse_legacy_prediction_loop \u001B[38;5;28;01melse\u001B[39;00m \u001B[38;5;28mself\u001B[39m\u001B[38;5;241m.\u001B[39mevaluation_loop\n\u001B[1;32m-> 4073\u001B[0m output \u001B[38;5;241m=\u001B[39m \u001B[43meval_loop\u001B[49m\u001B[43m(\u001B[49m\n\u001B[0;32m   4074\u001B[0m \u001B[43m    \u001B[49m\u001B[43meval_dataloader\u001B[49m\u001B[43m,\u001B[49m\n\u001B[0;32m   4075\u001B[0m \u001B[43m    \u001B[49m\u001B[43mdescription\u001B[49m\u001B[38;5;241;43m=\u001B[39;49m\u001B[38;5;124;43m\"\u001B[39;49m\u001B[38;5;124;43mEvaluation\u001B[39;49m\u001B[38;5;124;43m\"\u001B[39;49m\u001B[43m,\u001B[49m\n\u001B[0;32m   4076\u001B[0m \u001B[43m    \u001B[49m\u001B[38;5;66;43;03m# No point gathering the predictions if there are no metrics, otherwise we defer to\u001B[39;49;00m\n\u001B[0;32m   4077\u001B[0m \u001B[43m    \u001B[49m\u001B[38;5;66;43;03m# self.args.prediction_loss_only\u001B[39;49;00m\n\u001B[0;32m   4078\u001B[0m \u001B[43m    \u001B[49m\u001B[43mprediction_loss_only\u001B[49m\u001B[38;5;241;43m=\u001B[39;49m\u001B[38;5;28;43;01mTrue\u001B[39;49;00m\u001B[43m \u001B[49m\u001B[38;5;28;43;01mif\u001B[39;49;00m\u001B[43m \u001B[49m\u001B[38;5;28;43mself\u001B[39;49m\u001B[38;5;241;43m.\u001B[39;49m\u001B[43mcompute_metrics\u001B[49m\u001B[43m \u001B[49m\u001B[38;5;129;43;01mis\u001B[39;49;00m\u001B[43m \u001B[49m\u001B[38;5;28;43;01mNone\u001B[39;49;00m\u001B[43m \u001B[49m\u001B[38;5;28;43;01melse\u001B[39;49;00m\u001B[43m \u001B[49m\u001B[38;5;28;43;01mNone\u001B[39;49;00m\u001B[43m,\u001B[49m\n\u001B[0;32m   4079\u001B[0m \u001B[43m    \u001B[49m\u001B[43mignore_keys\u001B[49m\u001B[38;5;241;43m=\u001B[39;49m\u001B[43mignore_keys\u001B[49m\u001B[43m,\u001B[49m\n\u001B[0;32m   4080\u001B[0m \u001B[43m    \u001B[49m\u001B[43mmetric_key_prefix\u001B[49m\u001B[38;5;241;43m=\u001B[39;49m\u001B[43mmetric_key_prefix\u001B[49m\u001B[43m,\u001B[49m\n\u001B[0;32m   4081\u001B[0m \u001B[43m\u001B[49m\u001B[43m)\u001B[49m\n\u001B[0;32m   4083\u001B[0m total_batch_size \u001B[38;5;241m=\u001B[39m \u001B[38;5;28mself\u001B[39m\u001B[38;5;241m.\u001B[39margs\u001B[38;5;241m.\u001B[39meval_batch_size \u001B[38;5;241m*\u001B[39m \u001B[38;5;28mself\u001B[39m\u001B[38;5;241m.\u001B[39margs\u001B[38;5;241m.\u001B[39mworld_size\n\u001B[0;32m   4084\u001B[0m \u001B[38;5;28;01mif\u001B[39;00m \u001B[38;5;124mf\u001B[39m\u001B[38;5;124m\"\u001B[39m\u001B[38;5;132;01m{\u001B[39;00mmetric_key_prefix\u001B[38;5;132;01m}\u001B[39;00m\u001B[38;5;124m_jit_compilation_time\u001B[39m\u001B[38;5;124m\"\u001B[39m \u001B[38;5;129;01min\u001B[39;00m output\u001B[38;5;241m.\u001B[39mmetrics:\n",
      "File \u001B[1;32m~\\PycharmProjects\\PythonProject\\.venv\\Lib\\site-packages\\transformers\\trainer.py:4362\u001B[0m, in \u001B[0;36mTrainer.evaluation_loop\u001B[1;34m(self, dataloader, description, prediction_loss_only, ignore_keys, metric_key_prefix)\u001B[0m\n\u001B[0;32m   4360\u001B[0m     eval_set_kwargs[\u001B[38;5;124m\"\u001B[39m\u001B[38;5;124mlosses\u001B[39m\u001B[38;5;124m\"\u001B[39m] \u001B[38;5;241m=\u001B[39m all_losses \u001B[38;5;28;01mif\u001B[39;00m \u001B[38;5;124m\"\u001B[39m\u001B[38;5;124mloss\u001B[39m\u001B[38;5;124m\"\u001B[39m \u001B[38;5;129;01min\u001B[39;00m args\u001B[38;5;241m.\u001B[39minclude_for_metrics \u001B[38;5;28;01melse\u001B[39;00m \u001B[38;5;28;01mNone\u001B[39;00m\n\u001B[0;32m   4361\u001B[0m     eval_set_kwargs[\u001B[38;5;124m\"\u001B[39m\u001B[38;5;124minputs\u001B[39m\u001B[38;5;124m\"\u001B[39m] \u001B[38;5;241m=\u001B[39m all_inputs \u001B[38;5;28;01mif\u001B[39;00m \u001B[38;5;124m\"\u001B[39m\u001B[38;5;124minputs\u001B[39m\u001B[38;5;124m\"\u001B[39m \u001B[38;5;129;01min\u001B[39;00m args\u001B[38;5;241m.\u001B[39minclude_for_metrics \u001B[38;5;28;01melse\u001B[39;00m \u001B[38;5;28;01mNone\u001B[39;00m\n\u001B[1;32m-> 4362\u001B[0m     metrics \u001B[38;5;241m=\u001B[39m \u001B[38;5;28;43mself\u001B[39;49m\u001B[38;5;241;43m.\u001B[39;49m\u001B[43mcompute_metrics\u001B[49m\u001B[43m(\u001B[49m\n\u001B[0;32m   4363\u001B[0m \u001B[43m        \u001B[49m\u001B[43mEvalPrediction\u001B[49m\u001B[43m(\u001B[49m\u001B[43mpredictions\u001B[49m\u001B[38;5;241;43m=\u001B[39;49m\u001B[43mall_preds\u001B[49m\u001B[43m,\u001B[49m\u001B[43m \u001B[49m\u001B[43mlabel_ids\u001B[49m\u001B[38;5;241;43m=\u001B[39;49m\u001B[43mall_labels\u001B[49m\u001B[43m,\u001B[49m\u001B[43m \u001B[49m\u001B[38;5;241;43m*\u001B[39;49m\u001B[38;5;241;43m*\u001B[39;49m\u001B[43meval_set_kwargs\u001B[49m\u001B[43m)\u001B[49m\n\u001B[0;32m   4364\u001B[0m \u001B[43m    \u001B[49m\u001B[43m)\u001B[49m\n\u001B[0;32m   4365\u001B[0m \u001B[38;5;28;01melif\u001B[39;00m metrics \u001B[38;5;129;01mis\u001B[39;00m \u001B[38;5;28;01mNone\u001B[39;00m:\n\u001B[0;32m   4366\u001B[0m     metrics \u001B[38;5;241m=\u001B[39m {}\n",
      "Cell \u001B[1;32mIn[52], line 96\u001B[0m, in \u001B[0;36mcompute_metrics\u001B[1;34m(p)\u001B[0m\n\u001B[0;32m     92\u001B[0m plt\u001B[38;5;241m.\u001B[39mlegend(loc\u001B[38;5;241m=\u001B[39m\u001B[38;5;124m\"\u001B[39m\u001B[38;5;124mlower right\u001B[39m\u001B[38;5;124m\"\u001B[39m)\n\u001B[0;32m     93\u001B[0m plt\u001B[38;5;241m.\u001B[39mshow()\n\u001B[0;32m     95\u001B[0m \u001B[38;5;28;01mreturn\u001B[39;00m {\n\u001B[1;32m---> 96\u001B[0m     \u001B[38;5;124m\"\u001B[39m\u001B[38;5;124moverall_accuracy\u001B[39m\u001B[38;5;124m\"\u001B[39m: np\u001B[38;5;241m.\u001B[39mmean(np\u001B[38;5;241m.\u001B[39marray(\u001B[43mmetrics\u001B[49m\u001B[43m[\u001B[49m\u001B[38;5;124;43m\"\u001B[39;49m\u001B[38;5;124;43mall_preds\u001B[39;49m\u001B[38;5;124;43m\"\u001B[39;49m\u001B[43m]\u001B[49m) \u001B[38;5;241m==\u001B[39m np\u001B[38;5;241m.\u001B[39marray(metrics[\u001B[38;5;124m\"\u001B[39m\u001B[38;5;124mall_labels\u001B[39m\u001B[38;5;124m\"\u001B[39m])),\n\u001B[0;32m     97\u001B[0m     \u001B[38;5;124m\"\u001B[39m\u001B[38;5;124mmacro_auc\u001B[39m\u001B[38;5;124m\"\u001B[39m: np\u001B[38;5;241m.\u001B[39mmean(\u001B[38;5;28mlist\u001B[39m(metrics[\u001B[38;5;124m\"\u001B[39m\u001B[38;5;124mroc_auc\u001B[39m\u001B[38;5;124m\"\u001B[39m]\u001B[38;5;241m.\u001B[39mvalues()))\n\u001B[0;32m     98\u001B[0m }\n",
      "\u001B[1;31mKeyError\u001B[0m: 'all_preds'"
     ]
    }
   ],
   "execution_count": 54
  },
  {
   "cell_type": "markdown",
   "id": "b40e0bc714000230",
   "metadata": {},
   "source": "## 10. Évaluation finale"
  },
  {
   "cell_type": "code",
   "id": "d777f4a317bf4db",
   "metadata": {
    "ExecuteTime": {
     "end_time": "2025-02-07T12:09:53.071730Z",
     "start_time": "2025-02-07T12:04:25.377300Z"
    }
   },
   "source": [
    "final_metrics = trainer.evaluate()\n",
    "print(\"\\nMétriques finales:\")\n",
    "for key, value in final_metrics.items():\n",
    "    print(f\"{key}: {value:.4f}\")"
   ],
   "outputs": [
    {
     "name": "stdout",
     "output_type": "stream",
     "text": [
      "Classification Report:\n",
      "               precision    recall  f1-score   support\n",
      "\n",
      "      numero       1.00      1.00      1.00     11537\n",
      "         rep       1.00      1.00      1.00      5294\n",
      "    nom_voie       1.00      1.00      1.00     37563\n",
      " code_postal       1.00      1.00      1.00     11415\n",
      "       ville       1.00      1.00      1.00     11993\n",
      "\n",
      "    accuracy                           1.00     77802\n",
      "   macro avg       1.00      1.00      1.00     77802\n",
      "weighted avg       1.00      1.00      1.00     77802\n",
      "\n"
     ]
    },
    {
     "data": {
      "text/plain": [
       "<Figure size 1500x1500 with 2 Axes>"
      ],
      "image/png": "[encoded data removed]"
     },
     "metadata": {},
     "output_type": "display_data"
    },
    {
     "data": {
      "text/plain": [
       "<Figure size 1000x800 with 1 Axes>"
      ],
      "image/png": "[encoded data removed]"
     },
     "metadata": {},
     "output_type": "display_data"
    },
    {
     "ename": "KeyError",
     "evalue": "'all_preds'",
     "output_type": "error",
     "traceback": [
      "\u001B[1;31m---------------------------------------------------------------------------\u001B[0m",
      "\u001B[1;31mKeyError\u001B[0m                                  Traceback (most recent call last)",
      "Cell \u001B[1;32mIn[55], line 1\u001B[0m\n\u001B[1;32m----> 1\u001B[0m final_metrics \u001B[38;5;241m=\u001B[39m \u001B[43mtrainer\u001B[49m\u001B[38;5;241;43m.\u001B[39;49m\u001B[43mevaluate\u001B[49m\u001B[43m(\u001B[49m\u001B[43m)\u001B[49m\n\u001B[0;32m      2\u001B[0m \u001B[38;5;28mprint\u001B[39m(\u001B[38;5;124m\"\u001B[39m\u001B[38;5;130;01m\\n\u001B[39;00m\u001B[38;5;124mMétriques finales:\u001B[39m\u001B[38;5;124m\"\u001B[39m)\n\u001B[0;32m      3\u001B[0m \u001B[38;5;28;01mfor\u001B[39;00m key, value \u001B[38;5;129;01min\u001B[39;00m final_metrics\u001B[38;5;241m.\u001B[39mitems():\n",
      "File \u001B[1;32m~\\PycharmProjects\\PythonProject\\.venv\\Lib\\site-packages\\transformers\\trainer.py:4073\u001B[0m, in \u001B[0;36mTrainer.evaluate\u001B[1;34m(self, eval_dataset, ignore_keys, metric_key_prefix)\u001B[0m\n\u001B[0;32m   4070\u001B[0m start_time \u001B[38;5;241m=\u001B[39m time\u001B[38;5;241m.\u001B[39mtime()\n\u001B[0;32m   4072\u001B[0m eval_loop \u001B[38;5;241m=\u001B[39m \u001B[38;5;28mself\u001B[39m\u001B[38;5;241m.\u001B[39mprediction_loop \u001B[38;5;28;01mif\u001B[39;00m \u001B[38;5;28mself\u001B[39m\u001B[38;5;241m.\u001B[39margs\u001B[38;5;241m.\u001B[39muse_legacy_prediction_loop \u001B[38;5;28;01melse\u001B[39;00m \u001B[38;5;28mself\u001B[39m\u001B[38;5;241m.\u001B[39mevaluation_loop\n\u001B[1;32m-> 4073\u001B[0m output \u001B[38;5;241m=\u001B[39m \u001B[43meval_loop\u001B[49m\u001B[43m(\u001B[49m\n\u001B[0;32m   4074\u001B[0m \u001B[43m    \u001B[49m\u001B[43meval_dataloader\u001B[49m\u001B[43m,\u001B[49m\n\u001B[0;32m   4075\u001B[0m \u001B[43m    \u001B[49m\u001B[43mdescription\u001B[49m\u001B[38;5;241;43m=\u001B[39;49m\u001B[38;5;124;43m\"\u001B[39;49m\u001B[38;5;124;43mEvaluation\u001B[39;49m\u001B[38;5;124;43m\"\u001B[39;49m\u001B[43m,\u001B[49m\n\u001B[0;32m   4076\u001B[0m \u001B[43m    \u001B[49m\u001B[38;5;66;43;03m# No point gathering the predictions if there are no metrics, otherwise we defer to\u001B[39;49;00m\n\u001B[0;32m   4077\u001B[0m \u001B[43m    \u001B[49m\u001B[38;5;66;43;03m# self.args.prediction_loss_only\u001B[39;49;00m\n\u001B[0;32m   4078\u001B[0m \u001B[43m    \u001B[49m\u001B[43mprediction_loss_only\u001B[49m\u001B[38;5;241;43m=\u001B[39;49m\u001B[38;5;28;43;01mTrue\u001B[39;49;00m\u001B[43m \u001B[49m\u001B[38;5;28;43;01mif\u001B[39;49;00m\u001B[43m \u001B[49m\u001B[38;5;28;43mself\u001B[39;49m\u001B[38;5;241;43m.\u001B[39;49m\u001B[43mcompute_metrics\u001B[49m\u001B[43m \u001B[49m\u001B[38;5;129;43;01mis\u001B[39;49;00m\u001B[43m \u001B[49m\u001B[38;5;28;43;01mNone\u001B[39;49;00m\u001B[43m \u001B[49m\u001B[38;5;28;43;01melse\u001B[39;49;00m\u001B[43m \u001B[49m\u001B[38;5;28;43;01mNone\u001B[39;49;00m\u001B[43m,\u001B[49m\n\u001B[0;32m   4079\u001B[0m \u001B[43m    \u001B[49m\u001B[43mignore_keys\u001B[49m\u001B[38;5;241;43m=\u001B[39;49m\u001B[43mignore_keys\u001B[49m\u001B[43m,\u001B[49m\n\u001B[0;32m   4080\u001B[0m \u001B[43m    \u001B[49m\u001B[43mmetric_key_prefix\u001B[49m\u001B[38;5;241;43m=\u001B[39;49m\u001B[43mmetric_key_prefix\u001B[49m\u001B[43m,\u001B[49m\n\u001B[0;32m   4081\u001B[0m \u001B[43m\u001B[49m\u001B[43m)\u001B[49m\n\u001B[0;32m   4083\u001B[0m total_batch_size \u001B[38;5;241m=\u001B[39m \u001B[38;5;28mself\u001B[39m\u001B[38;5;241m.\u001B[39margs\u001B[38;5;241m.\u001B[39meval_batch_size \u001B[38;5;241m*\u001B[39m \u001B[38;5;28mself\u001B[39m\u001B[38;5;241m.\u001B[39margs\u001B[38;5;241m.\u001B[39mworld_size\n\u001B[0;32m   4084\u001B[0m \u001B[38;5;28;01mif\u001B[39;00m \u001B[38;5;124mf\u001B[39m\u001B[38;5;124m\"\u001B[39m\u001B[38;5;132;01m{\u001B[39;00mmetric_key_prefix\u001B[38;5;132;01m}\u001B[39;00m\u001B[38;5;124m_jit_compilation_time\u001B[39m\u001B[38;5;124m\"\u001B[39m \u001B[38;5;129;01min\u001B[39;00m output\u001B[38;5;241m.\u001B[39mmetrics:\n",
      "File \u001B[1;32m~\\PycharmProjects\\PythonProject\\.venv\\Lib\\site-packages\\transformers\\trainer.py:4362\u001B[0m, in \u001B[0;36mTrainer.evaluation_loop\u001B[1;34m(self, dataloader, description, prediction_loss_only, ignore_keys, metric_key_prefix)\u001B[0m\n\u001B[0;32m   4360\u001B[0m     eval_set_kwargs[\u001B[38;5;124m\"\u001B[39m\u001B[38;5;124mlosses\u001B[39m\u001B[38;5;124m\"\u001B[39m] \u001B[38;5;241m=\u001B[39m all_losses \u001B[38;5;28;01mif\u001B[39;00m \u001B[38;5;124m\"\u001B[39m\u001B[38;5;124mloss\u001B[39m\u001B[38;5;124m\"\u001B[39m \u001B[38;5;129;01min\u001B[39;00m args\u001B[38;5;241m.\u001B[39minclude_for_metrics \u001B[38;5;28;01melse\u001B[39;00m \u001B[38;5;28;01mNone\u001B[39;00m\n\u001B[0;32m   4361\u001B[0m     eval_set_kwargs[\u001B[38;5;124m\"\u001B[39m\u001B[38;5;124minputs\u001B[39m\u001B[38;5;124m\"\u001B[39m] \u001B[38;5;241m=\u001B[39m all_inputs \u001B[38;5;28;01mif\u001B[39;00m \u001B[38;5;124m\"\u001B[39m\u001B[38;5;124minputs\u001B[39m\u001B[38;5;124m\"\u001B[39m \u001B[38;5;129;01min\u001B[39;00m args\u001B[38;5;241m.\u001B[39minclude_for_metrics \u001B[38;5;28;01melse\u001B[39;00m \u001B[38;5;28;01mNone\u001B[39;00m\n\u001B[1;32m-> 4362\u001B[0m     metrics \u001B[38;5;241m=\u001B[39m \u001B[38;5;28;43mself\u001B[39;49m\u001B[38;5;241;43m.\u001B[39;49m\u001B[43mcompute_metrics\u001B[49m\u001B[43m(\u001B[49m\n\u001B[0;32m   4363\u001B[0m \u001B[43m        \u001B[49m\u001B[43mEvalPrediction\u001B[49m\u001B[43m(\u001B[49m\u001B[43mpredictions\u001B[49m\u001B[38;5;241;43m=\u001B[39;49m\u001B[43mall_preds\u001B[49m\u001B[43m,\u001B[49m\u001B[43m \u001B[49m\u001B[43mlabel_ids\u001B[49m\u001B[38;5;241;43m=\u001B[39;49m\u001B[43mall_labels\u001B[49m\u001B[43m,\u001B[49m\u001B[43m \u001B[49m\u001B[38;5;241;43m*\u001B[39;49m\u001B[38;5;241;43m*\u001B[39;49m\u001B[43meval_set_kwargs\u001B[49m\u001B[43m)\u001B[49m\n\u001B[0;32m   4364\u001B[0m \u001B[43m    \u001B[49m\u001B[43m)\u001B[49m\n\u001B[0;32m   4365\u001B[0m \u001B[38;5;28;01melif\u001B[39;00m metrics \u001B[38;5;129;01mis\u001B[39;00m \u001B[38;5;28;01mNone\u001B[39;00m:\n\u001B[0;32m   4366\u001B[0m     metrics \u001B[38;5;241m=\u001B[39m {}\n",
      "Cell \u001B[1;32mIn[52], line 96\u001B[0m, in \u001B[0;36mcompute_metrics\u001B[1;34m(p)\u001B[0m\n\u001B[0;32m     92\u001B[0m plt\u001B[38;5;241m.\u001B[39mlegend(loc\u001B[38;5;241m=\u001B[39m\u001B[38;5;124m\"\u001B[39m\u001B[38;5;124mlower right\u001B[39m\u001B[38;5;124m\"\u001B[39m)\n\u001B[0;32m     93\u001B[0m plt\u001B[38;5;241m.\u001B[39mshow()\n\u001B[0;32m     95\u001B[0m \u001B[38;5;28;01mreturn\u001B[39;00m {\n\u001B[1;32m---> 96\u001B[0m     \u001B[38;5;124m\"\u001B[39m\u001B[38;5;124moverall_accuracy\u001B[39m\u001B[38;5;124m\"\u001B[39m: np\u001B[38;5;241m.\u001B[39mmean(np\u001B[38;5;241m.\u001B[39marray(\u001B[43mmetrics\u001B[49m\u001B[43m[\u001B[49m\u001B[38;5;124;43m\"\u001B[39;49m\u001B[38;5;124;43mall_preds\u001B[39;49m\u001B[38;5;124;43m\"\u001B[39;49m\u001B[43m]\u001B[49m) \u001B[38;5;241m==\u001B[39m np\u001B[38;5;241m.\u001B[39marray(metrics[\u001B[38;5;124m\"\u001B[39m\u001B[38;5;124mall_labels\u001B[39m\u001B[38;5;124m\"\u001B[39m])),\n\u001B[0;32m     97\u001B[0m     \u001B[38;5;124m\"\u001B[39m\u001B[38;5;124mmacro_auc\u001B[39m\u001B[38;5;124m\"\u001B[39m: np\u001B[38;5;241m.\u001B[39mmean(\u001B[38;5;28mlist\u001B[39m(metrics[\u001B[38;5;124m\"\u001B[39m\u001B[38;5;124mroc_auc\u001B[39m\u001B[38;5;124m\"\u001B[39m]\u001B[38;5;241m.\u001B[39mvalues()))\n\u001B[0;32m     98\u001B[0m }\n",
      "\u001B[1;31mKeyError\u001B[0m: 'all_preds'"
     ]
    }
   ],
   "execution_count": 55
  },
  {
   "cell_type": "markdown",
   "id": "723201f6f53dbb39",
   "metadata": {},
   "source": "## 11. Sauvegarde du modèle"
  },
  {
   "cell_type": "code",
   "id": "58abd65f372eaedd",
   "metadata": {
    "ExecuteTime": {
     "end_time": "2025-02-07T12:11:16.690282Z",
     "start_time": "2025-02-07T12:11:08.625924Z"
    }
   },
   "source": [
    "model.save_pretrained(\"./address_parser2\")\n",
    "tokenizer.save_pretrained(\"./address_parser2\")"
   ],
   "outputs": [
    {
     "data": {
      "text/plain": [
       "('./address_parser2\\\\tokenizer_config.json',\n",
       " './address_parser2\\\\special_tokens_map.json',\n",
       " './address_parser2\\\\vocab.json',\n",
       " './address_parser2\\\\merges.txt',\n",
       " './address_parser2\\\\added_tokens.json',\n",
       " './address_parser2\\\\tokenizer.json')"
      ]
     },
     "execution_count": 57,
     "metadata": {},
     "output_type": "execute_result"
    }
   ],
   "execution_count": 57
  },
  {
   "cell_type": "code",
   "id": "e1f680239f888cc8",
   "metadata": {
    "ExecuteTime": {
     "end_time": "2025-02-07T12:11:22.296029Z",
     "start_time": "2025-02-07T12:11:22.061466Z"
    }
   },
   "source": [
    "print(model.state_dict()['classifier.weight'])  # Doit montrer des valeurs non-nulles"
   ],
   "outputs": [
    {
     "name": "stdout",
     "output_type": "stream",
     "text": [
      "tensor([[ 0.0045,  0.0168,  0.0035,  ...,  0.0171, -0.0198,  0.0267],\n",
      "        [ 0.0110, -0.0153,  0.0244,  ...,  0.0087,  0.0277,  0.0002],\n",
      "        [ 0.0245,  0.0009, -0.0057,  ..., -0.0125,  0.0178, -0.0069],\n",
      "        [ 0.0276, -0.0171, -0.0217,  ..., -0.0141, -0.0259,  0.0108],\n",
      "        [ 0.0181, -0.0154, -0.0456,  ..., -0.0001, -0.0034,  0.0178]])\n"
     ]
    }
   ],
   "execution_count": 58
  },
  {
   "cell_type": "code",
   "id": "90065f58f3e93e0b",
   "metadata": {
    "scrolled": true,
    "ExecuteTime": {
     "end_time": "2025-02-07T12:11:22.620147Z",
     "start_time": "2025-02-07T12:11:22.610339Z"
    }
   },
   "source": [
    "print(model.state_dict()['classifier.bias'])"
   ],
   "outputs": [
    {
     "name": "stdout",
     "output_type": "stream",
     "text": [
      "tensor([-0.0010,  0.0002,  0.0013, -0.0020, -0.0011])\n"
     ]
    }
   ],
   "execution_count": 59
  },
  {
   "metadata": {},
   "cell_type": "code",
   "outputs": [],
   "execution_count": null,
   "source": "",
   "id": "a71ee8fedf1ba836"
  },
  {
   "metadata": {},
   "cell_type": "code",
   "outputs": [],
   "execution_count": null,
   "source": "",
   "id": "53629bb164c4eeb9"
  },
  {
   "metadata": {},
   "cell_type": "code",
   "outputs": [],
   "execution_count": null,
   "source": "",
   "id": "f62b73361642eb6c"
  },
  {
   "metadata": {},
   "cell_type": "code",
   "outputs": [],
   "execution_count": null,
   "source": "",
   "id": "30309c8276938ede"
  },
  {
   "metadata": {},
   "cell_type": "code",
   "outputs": [],
   "execution_count": null,
   "source": "",
   "id": "33251c625f4f3f03"
  },
  {
   "metadata": {},
   "cell_type": "code",
   "outputs": [],
   "execution_count": null,
   "source": "",
   "id": "50af1efe8594b7d"
  },
  {
   "metadata": {},
   "cell_type": "code",
   "outputs": [],
   "execution_count": null,
   "source": "",
   "id": "a9db99ee479dec56"
  },
  {
   "metadata": {
    "ExecuteTime": {
     "end_time": "2025-02-07T09:16:37.170434Z",
     "start_time": "2025-02-07T09:16:37.165843Z"
    }
   },
   "cell_type": "code",
   "source": "",
   "id": "4caa74947c505e3c",
   "outputs": [],
   "execution_count": null
  },
  {
   "cell_type": "markdown",
   "id": "97ec70b5-0a79-49fa-bc1c-f92243bb94bb",
   "metadata": {},
   "source": [
    "Importation du modèle préentraîné"
   ]
  },
  {
   "cell_type": "code",
   "id": "f1775acd9c83be30",
   "metadata": {
    "ExecuteTime": {
     "end_time": "2025-02-07T12:15:21.916588Z",
     "start_time": "2025-02-07T12:15:21.109490Z"
    }
   },
   "source": [
    "from transformers import pipeline\n",
    "\n",
    "# Chargement du modèle entraîné\n",
    "model = pipeline(\"token-classification\", model=\"./address_parser2\")"
   ],
   "outputs": [
    {
     "name": "stderr",
     "output_type": "stream",
     "text": [
      "Device set to use cpu\n"
     ]
    }
   ],
   "execution_count": 81
  },
  {
   "cell_type": "code",
   "id": "b1c72bbbe20b732e",
   "metadata": {
    "ExecuteTime": {
     "end_time": "2025-02-07T12:15:22.595437Z",
     "start_time": "2025-02-07T12:15:21.941408Z"
    }
   },
   "source": [
    "# Aucun avertissement ne devrait apparaître si le modèle est correctement entraîné\n",
    "print(model(\"LYON\"))"
   ],
   "outputs": [
    {
     "name": "stdout",
     "output_type": "stream",
     "text": [
      "[{'entity': 'ville', 'score': np.float32(0.9775439), 'index': 1, 'word': 'ĠL', 'start': 0, 'end': 1}, {'entity': 'nom_voie', 'score': np.float32(0.990914), 'index': 2, 'word': 'Y', 'start': 1, 'end': 2}, {'entity': 'nom_voie', 'score': np.float32(0.96320176), 'index': 3, 'word': 'ON', 'start': 2, 'end': 4}]\n"
     ]
    }
   ],
   "execution_count": 82
  },
  {
   "cell_type": "markdown",
   "id": "e183551f16defbed",
   "metadata": {},
   "source": [
    "## 12. Fonction\n",
    "Les informations renvoyées par le modèle sont brutes et pas lisibles. Écrivons une fonction qui permet d'afficher cela dans une base de données."
   ]
  },
  {
   "cell_type": "code",
   "id": "5f8194483171706f",
   "metadata": {
    "ExecuteTime": {
     "end_time": "2025-02-07T12:15:23.611412Z",
     "start_time": "2025-02-07T12:15:23.563268Z"
    }
   },
   "source": [
    "\n",
    "def clean_address(address):\n",
    "    \"\"\"Nettoie une adresse en remplaçant les virgules et points-virgules par un espace, \n",
    "    puis en réduisant les espaces multiples à un seul.\"\"\"\n",
    "    address = re.sub(r'[;,]+', ' ', address)  # Remplace les virgules et points-virgules par un espace\n",
    "    address = re.sub(r'\\s+', ' ', address)  # Réduit les espaces multiples à un seul\n",
    "    return address.strip()  # Supprime les espaces en début et fin\n",
    "\n",
    "\n",
    "# Fonction pour extraire les informations d'une adresse\n",
    "def extract_address_info(adresse):\n",
    "    # Modèle de sortie avec les informations extraites\n",
    "    address = clean_address(adresse)\n",
    "    model_output = model(address)  # Remplacer `model(address)` par votre fonction ou modèle\n",
    "\n",
    "    # Dictionnaire pour stocker les données extraites\n",
    "    # Initialiser comme chaîne vide si absent\n",
    "    extracted_info = {\n",
    "        \"adresse\": [address],\n",
    "        \"numero\": [\"\"],\n",
    "        \"rep\": [\"\"],\n",
    "        \"nom_voie\": [\"\"],\n",
    "        \"code_postal\": [\"\"],\n",
    "        \"ville\": [\"\"],\n",
    "    }\n",
    "\n",
    "    # Liste des indices start et end pour chaque champ\n",
    "    entities = {\n",
    "        \"numero\": [],\n",
    "        \"rep\": [],\n",
    "        \"nom_voie\": [],\n",
    "        \"code_postal\": [],\n",
    "        \"ville\": [],\n",
    "    }\n",
    "\n",
    "    # Extraction des entités et ajout des indices start et end\n",
    "    for entity in model_output:\n",
    "        entity_type = entity['entity']\n",
    "        start = entity['start']\n",
    "        end = entity['end']\n",
    "\n",
    "        # Ajouter les indices start et end dans la liste correspondante\n",
    "        if entity_type in entities:\n",
    "            entities[entity_type].append((start, end))\n",
    "\n",
    "    # Traitement des champs pour extraire l'information\n",
    "    for field, indices in entities.items():\n",
    "        if indices:\n",
    "            # Trouver le min start et le max end\n",
    "            min_start = min(start for start, _ in indices)\n",
    "            max_end = max(end for _, end in indices)\n",
    "            # Extraire la portion correspondante de l'adresse\n",
    "            extracted_info[field][0] = address[min_start:max_end].strip()\n",
    "        else:\n",
    "            # Si le champ n'existe pas, laisser la chaîne vide\n",
    "            extracted_info[field][0] = \"\"\n",
    "\n",
    "    # Créer un DataFrame à partir du dictionnaire\n",
    "    data = pd.DataFrame(extracted_info)\n",
    "\n",
    "    # Retourner le DataFrame\n",
    "    return data\n",
    "\n",
    "def process_address_list(adresse_list):\n",
    "    \"\"\"Traite une liste d'adresses et retourne un DataFrame avec les informations extraites.\"\"\"\n",
    "    df_list = [extract_address_info(address) for address in adresse_list]\n",
    "    return pd.concat(df_list, ignore_index=True)\n"
   ],
   "outputs": [],
   "execution_count": 83
  },
  {
   "cell_type": "markdown",
   "id": "10f4119e44645ae8",
   "metadata": {},
   "source": [
    "\n",
    "## 13. Exemple d'utilisation"
   ]
  },
  {
   "cell_type": "code",
   "id": "1da576de09174b1b",
   "metadata": {
    "ExecuteTime": {
     "end_time": "2025-02-07T12:19:52.636379Z",
     "start_time": "2025-02-07T12:19:52.539145Z"
    }
   },
   "source": [
    "df = extract_address_info(\"28 place des pavillons Lyon\")\n",
    "display(df)"
   ],
   "outputs": [
    {
     "data": {
      "text/plain": [
       "                       adresse numero rep             nom_voie code_postal  \\\n",
       "0  28 place des pavillons Lyon     28      place des pavillons               \n",
       "\n",
       "  ville  \n",
       "0  Lyon  "
      ],
      "text/html": [
       "<div>\n",
       "<style scoped>\n",
       "    .dataframe tbody tr th:only-of-type {\n",
       "        vertical-align: middle;\n",
       "    }\n",
       "\n",
       "    .dataframe tbody tr th {\n",
       "        vertical-align: top;\n",
       "    }\n",
       "\n",
       "    .dataframe thead th {\n",
       "        text-align: right;\n",
       "    }\n",
       "</style>\n",
       "<table border=\"1\" class=\"dataframe\">\n",
       "  <thead>\n",
       "    <tr style=\"text-align: right;\">\n",
       "      <th></th>\n",
       "      <th>adresse</th>\n",
       "      <th>numero</th>\n",
       "      <th>rep</th>\n",
       "      <th>nom_voie</th>\n",
       "      <th>code_postal</th>\n",
       "      <th>ville</th>\n",
       "    </tr>\n",
       "  </thead>\n",
       "  <tbody>\n",
       "    <tr>\n",
       "      <th>0</th>\n",
       "      <td>28 place des pavillons Lyon</td>\n",
       "      <td>28</td>\n",
       "      <td></td>\n",
       "      <td>place des pavillons</td>\n",
       "      <td></td>\n",
       "      <td>Lyon</td>\n",
       "    </tr>\n",
       "  </tbody>\n",
       "</table>\n",
       "</div>"
      ]
     },
     "metadata": {},
     "output_type": "display_data"
    }
   ],
   "execution_count": 98
  },
  {
   "cell_type": "code",
   "id": "7b8a98de36257c13",
   "metadata": {
    "ExecuteTime": {
     "end_time": "2025-02-07T12:16:12.385283Z",
     "start_time": "2025-02-07T12:16:12.218482Z"
    }
   },
   "source": [
    "# Exemple d'utilisation\n",
    "address_list = [\n",
    "    \"79   bis  rue de la martyrs, LYON\",\n",
    "    \"10, rue des Lilas  75015  Paris\",\n",
    "    \"5 Avenue   de la République   Marseille\"\n",
    "]\n",
    "\n",
    "df = process_address_list(address_list)\n",
    "display(df)"
   ],
   "outputs": [
    {
     "data": {
      "text/plain": [
       "                               adresse numero  rep                 nom_voie  \\\n",
       "0        79 bis rue de la martyrs LYON     79  bis        rue de la martyrs   \n",
       "1         10 rue des Lilas 75015 Paris     10                 rue des Lilas   \n",
       "2  5 Avenue de la République Marseille      5       Avenue de la République   \n",
       "\n",
       "  code_postal      ville  \n",
       "0                   LYON  \n",
       "1       75015      Paris  \n",
       "2              Marseille  "
      ],
      "text/html": [
       "<div>\n",
       "<style scoped>\n",
       "    .dataframe tbody tr th:only-of-type {\n",
       "        vertical-align: middle;\n",
       "    }\n",
       "\n",
       "    .dataframe tbody tr th {\n",
       "        vertical-align: top;\n",
       "    }\n",
       "\n",
       "    .dataframe thead th {\n",
       "        text-align: right;\n",
       "    }\n",
       "</style>\n",
       "<table border=\"1\" class=\"dataframe\">\n",
       "  <thead>\n",
       "    <tr style=\"text-align: right;\">\n",
       "      <th></th>\n",
       "      <th>adresse</th>\n",
       "      <th>numero</th>\n",
       "      <th>rep</th>\n",
       "      <th>nom_voie</th>\n",
       "      <th>code_postal</th>\n",
       "      <th>ville</th>\n",
       "    </tr>\n",
       "  </thead>\n",
       "  <tbody>\n",
       "    <tr>\n",
       "      <th>0</th>\n",
       "      <td>79 bis rue de la martyrs LYON</td>\n",
       "      <td>79</td>\n",
       "      <td>bis</td>\n",
       "      <td>rue de la martyrs</td>\n",
       "      <td></td>\n",
       "      <td>LYON</td>\n",
       "    </tr>\n",
       "    <tr>\n",
       "      <th>1</th>\n",
       "      <td>10 rue des Lilas 75015 Paris</td>\n",
       "      <td>10</td>\n",
       "      <td></td>\n",
       "      <td>rue des Lilas</td>\n",
       "      <td>75015</td>\n",
       "      <td>Paris</td>\n",
       "    </tr>\n",
       "    <tr>\n",
       "      <th>2</th>\n",
       "      <td>5 Avenue de la République Marseille</td>\n",
       "      <td>5</td>\n",
       "      <td></td>\n",
       "      <td>Avenue de la République</td>\n",
       "      <td></td>\n",
       "      <td>Marseille</td>\n",
       "    </tr>\n",
       "  </tbody>\n",
       "</table>\n",
       "</div>"
      ]
     },
     "metadata": {},
     "output_type": "display_data"
    }
   ],
   "execution_count": 89
  },
  {
   "cell_type": "markdown",
   "id": "0a2f059b-9aed-440d-acdb-6251d4daa1f8",
   "metadata": {},
   "source": [
    "L'objectif est maintenant de reconstituer la base d'origine en utilisant uniquement la variable **adresse**"
   ]
  },
  {
   "cell_type": "code",
   "id": "9fce48d9-017c-4d6e-a88c-1afece408ce2",
   "metadata": {
    "ExecuteTime": {
     "end_time": "2025-02-07T12:16:57.293711Z",
     "start_time": "2025-02-07T12:16:57.263295Z"
    }
   },
   "source": "display(df_for_recostitution[['address']].head(10))",
   "outputs": [
    {
     "data": {
      "text/plain": [
       "                                             address\n",
       "0       630  la Chèvre 01400 L'Abergement-Clémenciat\n",
       "1  6  Place du Pese Lait 01640 L'Abergement-de-Varey\n",
       "2           63  le Buisson 01330 Ambérieux-en-Dombes\n",
       "3      2  Lotissement le Nan 01500 Ambérieu-en-Bugey\n",
       "4                 1  Rue des Collonges 01350 Vongnes\n",
       "5           17  Les Hauts de Virignin 01300 Virignin\n",
       "6                1  Bergon 01260 Arvière-en-Valromey\n",
       "7     2  Rue des Barmettes 01510 Arvière-en-Valromey\n",
       "8        2  Route de Neuville les Dames 01540 Vonnas\n",
       "9           1  Rue Andre Charles Boulle 01440 Viriat"
      ],
      "text/html": [
       "<div>\n",
       "<style scoped>\n",
       "    .dataframe tbody tr th:only-of-type {\n",
       "        vertical-align: middle;\n",
       "    }\n",
       "\n",
       "    .dataframe tbody tr th {\n",
       "        vertical-align: top;\n",
       "    }\n",
       "\n",
       "    .dataframe thead th {\n",
       "        text-align: right;\n",
       "    }\n",
       "</style>\n",
       "<table border=\"1\" class=\"dataframe\">\n",
       "  <thead>\n",
       "    <tr style=\"text-align: right;\">\n",
       "      <th></th>\n",
       "      <th>address</th>\n",
       "    </tr>\n",
       "  </thead>\n",
       "  <tbody>\n",
       "    <tr>\n",
       "      <th>0</th>\n",
       "      <td>630  la Chèvre 01400 L'Abergement-Clémenciat</td>\n",
       "    </tr>\n",
       "    <tr>\n",
       "      <th>1</th>\n",
       "      <td>6  Place du Pese Lait 01640 L'Abergement-de-Varey</td>\n",
       "    </tr>\n",
       "    <tr>\n",
       "      <th>2</th>\n",
       "      <td>63  le Buisson 01330 Ambérieux-en-Dombes</td>\n",
       "    </tr>\n",
       "    <tr>\n",
       "      <th>3</th>\n",
       "      <td>2  Lotissement le Nan 01500 Ambérieu-en-Bugey</td>\n",
       "    </tr>\n",
       "    <tr>\n",
       "      <th>4</th>\n",
       "      <td>1  Rue des Collonges 01350 Vongnes</td>\n",
       "    </tr>\n",
       "    <tr>\n",
       "      <th>5</th>\n",
       "      <td>17  Les Hauts de Virignin 01300 Virignin</td>\n",
       "    </tr>\n",
       "    <tr>\n",
       "      <th>6</th>\n",
       "      <td>1  Bergon 01260 Arvière-en-Valromey</td>\n",
       "    </tr>\n",
       "    <tr>\n",
       "      <th>7</th>\n",
       "      <td>2  Rue des Barmettes 01510 Arvière-en-Valromey</td>\n",
       "    </tr>\n",
       "    <tr>\n",
       "      <th>8</th>\n",
       "      <td>2  Route de Neuville les Dames 01540 Vonnas</td>\n",
       "    </tr>\n",
       "    <tr>\n",
       "      <th>9</th>\n",
       "      <td>1  Rue Andre Charles Boulle 01440 Viriat</td>\n",
       "    </tr>\n",
       "  </tbody>\n",
       "</table>\n",
       "</div>"
      ]
     },
     "metadata": {},
     "output_type": "display_data"
    }
   ],
   "execution_count": 92
  },
  {
   "cell_type": "code",
   "id": "27e4971b-d5dc-4b89-ba53-250df14be645",
   "metadata": {
    "ExecuteTime": {
     "end_time": "2025-02-07T12:17:21.383232Z",
     "start_time": "2025-02-07T12:17:20.827653Z"
    }
   },
   "source": [
    "df = process_address_list(df_for_recostitution['address'].head(10).tolist())\n",
    "display(df)"
   ],
   "outputs": [
    {
     "data": {
      "text/plain": [
       "                                            adresse numero rep  \\\n",
       "0       630 la Chèvre 01400 L'Abergement-Clémenciat    630       \n",
       "1  6 Place du Pese Lait 01640 L'Abergement-de-Varey      6       \n",
       "2           63 le Buisson 01330 Ambérieux-en-Dombes     63       \n",
       "3      2 Lotissement le Nan 01500 Ambérieu-en-Bugey      2       \n",
       "4                 1 Rue des Collonges 01350 Vongnes      1       \n",
       "5           17 Les Hauts de Virignin 01300 Virignin     17       \n",
       "6                1 Bergon 01260 Arvière-en-Valromey      1       \n",
       "7     2 Rue des Barmettes 01510 Arvière-en-Valromey      2       \n",
       "8        2 Route de Neuville les Dames 01540 Vonnas      2       \n",
       "9           1 Rue Andre Charles Boulle 01440 Viriat      1       \n",
       "\n",
       "                      nom_voie code_postal                    ville  \n",
       "0                    la Chèvre       01400  L'Abergement-Clémenciat  \n",
       "1           Place du Pese Lait       01640    L'Abergement-de-Varey  \n",
       "2                   le Buisson       01330      Ambérieux-en-Dombes  \n",
       "3           Lotissement le Nan       01500        Ambérieu-en-Bugey  \n",
       "4            Rue des Collonges       01350                  Vongnes  \n",
       "5        Les Hauts de Virignin       01300                 Virignin  \n",
       "6                       Bergon       01260      Arvière-en-Valromey  \n",
       "7            Rue des Barmettes       01510      Arvière-en-Valromey  \n",
       "8  Route de Neuville les Dames       01540                   Vonnas  \n",
       "9     Rue Andre Charles Boulle       01440                   Viriat  "
      ],
      "text/html": [
       "<div>\n",
       "<style scoped>\n",
       "    .dataframe tbody tr th:only-of-type {\n",
       "        vertical-align: middle;\n",
       "    }\n",
       "\n",
       "    .dataframe tbody tr th {\n",
       "        vertical-align: top;\n",
       "    }\n",
       "\n",
       "    .dataframe thead th {\n",
       "        text-align: right;\n",
       "    }\n",
       "</style>\n",
       "<table border=\"1\" class=\"dataframe\">\n",
       "  <thead>\n",
       "    <tr style=\"text-align: right;\">\n",
       "      <th></th>\n",
       "      <th>adresse</th>\n",
       "      <th>numero</th>\n",
       "      <th>rep</th>\n",
       "      <th>nom_voie</th>\n",
       "      <th>code_postal</th>\n",
       "      <th>ville</th>\n",
       "    </tr>\n",
       "  </thead>\n",
       "  <tbody>\n",
       "    <tr>\n",
       "      <th>0</th>\n",
       "      <td>630 la Chèvre 01400 L'Abergement-Clémenciat</td>\n",
       "      <td>630</td>\n",
       "      <td></td>\n",
       "      <td>la Chèvre</td>\n",
       "      <td>01400</td>\n",
       "      <td>L'Abergement-Clémenciat</td>\n",
       "    </tr>\n",
       "    <tr>\n",
       "      <th>1</th>\n",
       "      <td>6 Place du Pese Lait 01640 L'Abergement-de-Varey</td>\n",
       "      <td>6</td>\n",
       "      <td></td>\n",
       "      <td>Place du Pese Lait</td>\n",
       "      <td>01640</td>\n",
       "      <td>L'Abergement-de-Varey</td>\n",
       "    </tr>\n",
       "    <tr>\n",
       "      <th>2</th>\n",
       "      <td>63 le Buisson 01330 Ambérieux-en-Dombes</td>\n",
       "      <td>63</td>\n",
       "      <td></td>\n",
       "      <td>le Buisson</td>\n",
       "      <td>01330</td>\n",
       "      <td>Ambérieux-en-Dombes</td>\n",
       "    </tr>\n",
       "    <tr>\n",
       "      <th>3</th>\n",
       "      <td>2 Lotissement le Nan 01500 Ambérieu-en-Bugey</td>\n",
       "      <td>2</td>\n",
       "      <td></td>\n",
       "      <td>Lotissement le Nan</td>\n",
       "      <td>01500</td>\n",
       "      <td>Ambérieu-en-Bugey</td>\n",
       "    </tr>\n",
       "    <tr>\n",
       "      <th>4</th>\n",
       "      <td>1 Rue des Collonges 01350 Vongnes</td>\n",
       "      <td>1</td>\n",
       "      <td></td>\n",
       "      <td>Rue des Collonges</td>\n",
       "      <td>01350</td>\n",
       "      <td>Vongnes</td>\n",
       "    </tr>\n",
       "    <tr>\n",
       "      <th>5</th>\n",
       "      <td>17 Les Hauts de Virignin 01300 Virignin</td>\n",
       "      <td>17</td>\n",
       "      <td></td>\n",
       "      <td>Les Hauts de Virignin</td>\n",
       "      <td>01300</td>\n",
       "      <td>Virignin</td>\n",
       "    </tr>\n",
       "    <tr>\n",
       "      <th>6</th>\n",
       "      <td>1 Bergon 01260 Arvière-en-Valromey</td>\n",
       "      <td>1</td>\n",
       "      <td></td>\n",
       "      <td>Bergon</td>\n",
       "      <td>01260</td>\n",
       "      <td>Arvière-en-Valromey</td>\n",
       "    </tr>\n",
       "    <tr>\n",
       "      <th>7</th>\n",
       "      <td>2 Rue des Barmettes 01510 Arvière-en-Valromey</td>\n",
       "      <td>2</td>\n",
       "      <td></td>\n",
       "      <td>Rue des Barmettes</td>\n",
       "      <td>01510</td>\n",
       "      <td>Arvière-en-Valromey</td>\n",
       "    </tr>\n",
       "    <tr>\n",
       "      <th>8</th>\n",
       "      <td>2 Route de Neuville les Dames 01540 Vonnas</td>\n",
       "      <td>2</td>\n",
       "      <td></td>\n",
       "      <td>Route de Neuville les Dames</td>\n",
       "      <td>01540</td>\n",
       "      <td>Vonnas</td>\n",
       "    </tr>\n",
       "    <tr>\n",
       "      <th>9</th>\n",
       "      <td>1 Rue Andre Charles Boulle 01440 Viriat</td>\n",
       "      <td>1</td>\n",
       "      <td></td>\n",
       "      <td>Rue Andre Charles Boulle</td>\n",
       "      <td>01440</td>\n",
       "      <td>Viriat</td>\n",
       "    </tr>\n",
       "  </tbody>\n",
       "</table>\n",
       "</div>"
      ]
     },
     "metadata": {},
     "output_type": "display_data"
    }
   ],
   "execution_count": 93
  },
  {
   "metadata": {},
   "cell_type": "markdown",
   "source": "",
   "id": "c2d23ac53d1c6fc9"
  },
  {
   "metadata": {},
   "cell_type": "markdown",
   "source": "",
   "id": "b264d6a99773f012"
  }
 ],
 "metadata": {
  "kernelspec": {
   "display_name": "Python 3 (ipykernel)",
   "language": "python",
   "name": "python3"
  },
  "language_info": {
   "codemirror_mode": {
    "name": "ipython",
    "version": 3
   },
   "file_extension": ".py",
   "mimetype": "text/x-python",
   "name": "python",
   "nbconvert_exporter": "python",
   "pygments_lexer": "ipython3",
   "version": "3.12.7"
  }
 },
 "nbformat": 4,
 "nbformat_minor": 5
}
